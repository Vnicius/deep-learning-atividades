{
 "cells": [
  {
   "cell_type": "code",
   "execution_count": 10,
   "metadata": {},
   "outputs": [],
   "source": [
    "import keras\n",
    "import tensorflow as tf\n",
    "import numpy as np\n",
    "import pandas as pd \n",
    "import matplotlib.pyplot as plt\n",
    "import seaborn as sns\n",
    "sns.set()\n",
    "from sklearn.model_selection import train_test_split\n",
    "from keras.datasets import mnist\n",
    "from keras.models import Sequential\n",
    "from keras.layers import Dense, Dropout\n",
    "from keras.optimizers import RMSprop"
   ]
  },
  {
   "cell_type": "markdown",
   "metadata": {},
   "source": [
    "Em um problema real de Redes Neurais, normalmente uma instância pode possuir inúmeras entradas, resultando em uma arquitetura de rede extensa com muitos neurônios e de múltiplas camadas. \n",
    "\n",
    "Um exemplo comum de aplicação nesse escopo é um classificador de imagens, em que cada entrada representa um neurônio da camada de entrada. Sabendo disso, esse notebook tem como objetivo implementar uma Rede Neural Multicamada (MLP) para o dataset MNIST. O MNIST é um dataset de dígitos escritos a mão, conforme Figura 1. \n",
    "\n",
    "A MLP deve ser implementada de forma a utilizar uma arquitetura simples e ainda, assim, obter uma performance elevada. Ao final, três modelos de rede devem ser implementados e comparados. Os detalhes de implementação devem ser justificados a cada questão e será dividido em 5 etapas:\n",
    "* Leitura, visualização e Préprocessamento do dataset\n",
    "* Conversão do array de predições Y\n",
    "* Definição da topologia da rede (camadas e neurônios)\n",
    "* Definir otimizador, função custo e modo do treinamento (batch, mini-batch, estocástico)\n",
    "* Treinamento e avaliação de resultados\n",
    "\n",
    "![alt text](imgs/mninst.png \"Title\")"
   ]
  },
  {
   "cell_type": "markdown",
   "metadata": {},
   "source": [
    "# Leitura, visualização e pré-processamento do dataset\n",
    "\n",
    "Ao utilizar Redes Neurais para imagens, cada entrada é um pixel. Dessa forma, após a leitura do dataset, precisa-se descobrir as dimensões da imagem, a quantidade de instâncias, quantas classes e entradas são necessárias para o problema.\n",
    "\n",
    "Feito isso, algumas técnicas de pré-processamento devem ser utilizadas para melhores resultados, dentre eles converter a imagem para tons de cinza e normalizar.\n",
    "\n",
    "Sabendo disso, retorne na célula abaixo essas informações e gere uma versão normalizada do dataset \n"
   ]
  },
  {
   "cell_type": "code",
   "execution_count": 11,
   "metadata": {
    "scrolled": false
   },
   "outputs": [
    {
     "name": "stdout",
     "output_type": "stream",
     "text": [
      " Exemplos de treinamento: (60000, 28, 28)\n",
      " Labels de treinamento: (60000,)\n",
      " Exemplos de teste: (10000, 28, 28)\n",
      " Labels de teste: (10000,)\n",
      "\n",
      "60000 Amostras de treinameto\n",
      "10000 Amostras de teste\n"
     ]
    },
    {
     "data": {
      "image/png": "[encoded data removed]",
      "text/plain": [
       "<Figure size 432x288 with 1 Axes>"
      ]
     },
     "metadata": {},
     "output_type": "display_data"
    }
   ],
   "source": [
    "### leitura do dataset\n",
    "(x_train, y_train), (x_test, y_test) = mnist.load_data()\n",
    "### Visualizar instâncias\n",
    "plt.imshow(x_train[5], cmap=plt.get_cmap('gray'))\n",
    "plt.title(y_train[5])\n",
    "### Print - informações das instâncias\n",
    "print(\" Exemplos de treinamento: \" + str(x_train.shape) + \"\\n\", \n",
    "      \"Labels de treinamento: \" + str(y_train.shape) + \"\\n\", \n",
    "      \"Exemplos de teste: \" + str(x_test.shape) + \"\\n\", \n",
    "      \"Labels de teste: \" + str(y_test.shape) + \"\\n\")\n",
    "### Normalizar\n",
    "x_train = x_train.reshape(-1,784).astype('float32') / 255.0\n",
    "x_test =  x_test.reshape(-1,784).astype('float32') / 255.0\n",
    "print(x_train.shape[0], 'Amostras de treinameto')\n",
    "print(x_test.shape[0], 'Amostras de teste')"
   ]
  },
  {
   "cell_type": "markdown",
   "metadata": {},
   "source": [
    "# Conversão do array de predições Y\n",
    "\n",
    "Baseado no número de classes do problema, represente a saída como one-hot encoding. Indique a importância dessa representação."
   ]
  },
  {
   "cell_type": "code",
   "execution_count": 12,
   "metadata": {},
   "outputs": [
    {
     "name": "stdout",
     "output_type": "stream",
     "text": [
      "(60000, 10)\n",
      "(10000, 10)\n",
      "[0. 0. 1. 0. 0. 0. 0. 0. 0. 0.]\n"
     ]
    }
   ],
   "source": [
    "num_classes = 10\n",
    "\n",
    "def one_hot(true_labels,num_classes):\n",
    "    \"\"\"\n",
    "    Função que implementa o one-hot encoding\n",
    "    Entrada: true_labels - array original com os labels\n",
    "    Retorna: labels - conversão one-hot          \n",
    "    \"\"\"\n",
    "    labels = keras.utils.to_categorical(true_labels, num_classes)\n",
    "    return labels\n",
    "\n",
    "y_train_oh = one_hot(y_train, num_classes)\n",
    "y_test_oh = one_hot(y_test, num_classes)\n",
    "print(y_train_oh.shape)\n",
    "print(y_test_oh.shape)\n",
    "print(y_test_oh[1])\n",
    "#print(x_train[5])\n",
    "#print(y_train_oh[5])"
   ]
  },
  {
   "cell_type": "markdown",
   "metadata": {},
   "source": [
    "# Definição de Topologia da Rede\n",
    "\n",
    "Mostre as três arquiteturas que serão utilizadas para resolver o problema. As arquiteturas devem ser simples de forma a retornar bons resultados com a menor quantidade necessária de neurônios e camadas. As três arquiteturas devem variar apenas quanto ao número de neurônios e camadas (incluindo regularização). Baseado nisso, explique:\n",
    "* Quantos neurônios serão utilizados em cada camada?\n",
    "* Quantas camadas serão utilizadas?\n",
    "* É necessário utilizar regularização? Se sim explique a técnica que foi utilizada e o impacto nos resultados\n",
    "* Qual função de ativação será utilizada? Escolha duas funções de ativação e explique os resultados obtidos"
   ]
  },
  {
   "cell_type": "markdown",
   "metadata": {},
   "source": [
    "# Definir otimizador, função custo e modo do treinamento\n",
    "\n",
    "Uma Rede Neural é um problema de otimização, sabendo disso, explique:\n",
    "* Qual otimizador será utilizado? Escolha dois otimizadores, explique a diferença entre eles justificando a escolha e comente os resultados obtidos.\n",
    "* Será necessário utilizar uma função custo? Explique o que é uma função custo e qual será utilizada justificando a escolha.\n",
    "* Qual modo de treinamento foi utilizado? Justifique sua resposta\n",
    "* Quantas épocas serão necessárias? Caso os métodos por batch ou mini-batch sejam escolhidos, indique também o tamanho\n",
    "\n"
   ]
  },
  {
   "cell_type": "markdown",
   "metadata": {},
   "source": [
    "# Treinamento e avaliação dos resultados\n",
    "\n",
    "Treine as três redes e mostre os resultados de cada uma a partir das questões anteriores.\n"
   ]
  },
  {
   "cell_type": "markdown",
   "metadata": {},
   "source": [
    "## Arquitetura 1"
   ]
  },
  {
   "cell_type": "markdown",
   "metadata": {},
   "source": [
    "* **Número de neurônios**\n",
    "  * Layer 1: 10 neurônios\n",
    "  * Layer 2: 10 neurônios\n",
    "  * Layer de saida: 10 neurônios\n",
    "* **Número de camadas:** 3\n",
    "* **Utilização de regularização:** Não foi utilizado regularização\n",
    "* **Funções de Ativação:** #TODO\n",
    "  * Layer 1: Relu\n",
    "  * Layer 2: Tangente Hiperbólica\n",
    "  * Layer de saida: Softmax\n",
    "* **Otimizador:** Adam\n",
    "* **Função de Custo:** Categorical Crossentropy\n",
    "* **Mode de Treinamento:** #TODO\n",
    "* **Número de épocas:** Foram utilizadas 30 épocas\n",
    "* **Utilização de batch ou mini-batch:** Não foi utilizado "
   ]
  },
  {
   "cell_type": "code",
   "execution_count": 13,
   "metadata": {},
   "outputs": [
    {
     "name": "stdout",
     "output_type": "stream",
     "text": [
      "_________________________________________________________________\n",
      "Layer (type)                 Output Shape              Param #   \n",
      "=================================================================\n",
      "dense_4 (Dense)              (None, 10)                7850      \n",
      "_________________________________________________________________\n",
      "dense_5 (Dense)              (None, 10)                110       \n",
      "_________________________________________________________________\n",
      "dense_6 (Dense)              (None, 10)                110       \n",
      "=================================================================\n",
      "Total params: 8,070\n",
      "Trainable params: 8,070\n",
      "Non-trainable params: 0\n",
      "_________________________________________________________________\n"
     ]
    }
   ],
   "source": [
    "model = Sequential()\n",
    "model.add(Dense(units=10, activation='relu', input_shape=(784,)))\n",
    "model.add(Dense(units=10, activation='tanh'))\n",
    "model.add(Dense(units=num_classes, activation='softmax'))\n",
    "\n",
    "model.summary()"
   ]
  },
  {
   "cell_type": "code",
   "execution_count": 14,
   "metadata": {},
   "outputs": [
    {
     "name": "stdout",
     "output_type": "stream",
     "text": [
      "Train on 60000 samples, validate on 10000 samples\n",
      "Epoch 1/30\n",
      "60000/60000 [==============================] - 28s 465us/step - loss: 0.6383 - acc: 0.8337 - val_loss: 0.3421 - val_acc: 0.9077\n",
      "Epoch 2/30\n",
      "60000/60000 [==============================] - 18s 303us/step - loss: 0.3170 - acc: 0.9115 - val_loss: 0.2870 - val_acc: 0.9171\n",
      "Epoch 3/30\n",
      "60000/60000 [==============================] - 17s 276us/step - loss: 0.2757 - acc: 0.9213 - val_loss: 0.2676 - val_acc: 0.9209\n",
      "Epoch 4/30\n",
      "60000/60000 [==============================] - 17s 280us/step - loss: 0.2484 - acc: 0.9283 - val_loss: 0.2431 - val_acc: 0.9277\n",
      "Epoch 5/30\n",
      "60000/60000 [==============================] - 16s 270us/step - loss: 0.2328 - acc: 0.9331 - val_loss: 0.2348 - val_acc: 0.9305\n",
      "Epoch 6/30\n",
      "60000/60000 [==============================] - 16s 264us/step - loss: 0.2219 - acc: 0.9363 - val_loss: 0.2335 - val_acc: 0.9328\n",
      "Epoch 7/30\n",
      "60000/60000 [==============================] - 16s 261us/step - loss: 0.2136 - acc: 0.9391 - val_loss: 0.2278 - val_acc: 0.9320\n",
      "Epoch 8/30\n",
      "60000/60000 [==============================] - 16s 270us/step - loss: 0.2068 - acc: 0.9405 - val_loss: 0.2288 - val_acc: 0.9348\n",
      "Epoch 9/30\n",
      "60000/60000 [==============================] - 16s 269us/step - loss: 0.2019 - acc: 0.9415 - val_loss: 0.2232 - val_acc: 0.9339\n",
      "Epoch 10/30\n",
      "60000/60000 [==============================] - 16s 272us/step - loss: 0.1965 - acc: 0.9426 - val_loss: 0.2229 - val_acc: 0.9329\n",
      "Epoch 11/30\n",
      "60000/60000 [==============================] - 17s 277us/step - loss: 0.1913 - acc: 0.9438 - val_loss: 0.2206 - val_acc: 0.9367\n",
      "Epoch 12/30\n",
      "60000/60000 [==============================] - 17s 275us/step - loss: 0.1889 - acc: 0.9442 - val_loss: 0.2215 - val_acc: 0.9362\n",
      "Epoch 13/30\n",
      "60000/60000 [==============================] - 16s 272us/step - loss: 0.1838 - acc: 0.9458 - val_loss: 0.2231 - val_acc: 0.9362\n",
      "Epoch 14/30\n",
      "60000/60000 [==============================] - 16s 272us/step - loss: 0.1822 - acc: 0.9466 - val_loss: 0.2123 - val_acc: 0.9383\n",
      "Epoch 15/30\n",
      "60000/60000 [==============================] - 17s 278us/step - loss: 0.1797 - acc: 0.9462 - val_loss: 0.2183 - val_acc: 0.9371\n",
      "Epoch 16/30\n",
      "60000/60000 [==============================] - 17s 278us/step - loss: 0.1770 - acc: 0.9476 - val_loss: 0.2178 - val_acc: 0.9363\n",
      "Epoch 17/30\n",
      "60000/60000 [==============================] - 17s 277us/step - loss: 0.1738 - acc: 0.9489 - val_loss: 0.2225 - val_acc: 0.9337\n",
      "Epoch 18/30\n",
      "60000/60000 [==============================] - 17s 283us/step - loss: 0.1727 - acc: 0.9486 - val_loss: 0.2122 - val_acc: 0.9386\n",
      "Epoch 19/30\n",
      "60000/60000 [==============================] - 17s 280us/step - loss: 0.1701 - acc: 0.9496 - val_loss: 0.2221 - val_acc: 0.9353\n",
      "Epoch 20/30\n",
      "60000/60000 [==============================] - 17s 283us/step - loss: 0.1688 - acc: 0.9500 - val_loss: 0.2231 - val_acc: 0.9356\n",
      "Epoch 21/30\n",
      "60000/60000 [==============================] - 17s 288us/step - loss: 0.1666 - acc: 0.9509 - val_loss: 0.2242 - val_acc: 0.9349\n",
      "Epoch 22/30\n",
      "60000/60000 [==============================] - 18s 294us/step - loss: 0.1659 - acc: 0.9509 - val_loss: 0.2144 - val_acc: 0.9375\n",
      "Epoch 23/30\n",
      "60000/60000 [==============================] - 16s 268us/step - loss: 0.1659 - acc: 0.9504 - val_loss: 0.2199 - val_acc: 0.9360\n",
      "Epoch 24/30\n",
      "60000/60000 [==============================] - 17s 278us/step - loss: 0.1635 - acc: 0.9516 - val_loss: 0.2178 - val_acc: 0.9357\n",
      "Epoch 25/30\n",
      "60000/60000 [==============================] - 17s 280us/step - loss: 0.1621 - acc: 0.9512 - val_loss: 0.2190 - val_acc: 0.9358\n",
      "Epoch 26/30\n",
      "60000/60000 [==============================] - 20s 339us/step - loss: 0.1615 - acc: 0.9523 - val_loss: 0.2257 - val_acc: 0.9361\n",
      "Epoch 27/30\n",
      "60000/60000 [==============================] - 16s 267us/step - loss: 0.1601 - acc: 0.9527 - val_loss: 0.2214 - val_acc: 0.9372\n",
      "Epoch 28/30\n",
      "60000/60000 [==============================] - 17s 275us/step - loss: 0.1581 - acc: 0.9524 - val_loss: 0.2221 - val_acc: 0.9352\n",
      "Epoch 29/30\n",
      "60000/60000 [==============================] - 17s 289us/step - loss: 0.1577 - acc: 0.9529 - val_loss: 0.2213 - val_acc: 0.9390\n",
      "Epoch 30/30\n",
      "60000/60000 [==============================] - 21s 356us/step - loss: 0.1570 - acc: 0.9530 - val_loss: 0.2184 - val_acc: 0.9391\n",
      "Test loss: 0.21844045244455337\n",
      "Test accuracy: 0.9391\n"
     ]
    }
   ],
   "source": [
    "model.compile(optimizer=\"adam\", loss='categorical_crossentropy',  metrics=['accuracy'])\n",
    "\n",
    "history = model.fit(x=x_train, y=y_train_oh, epochs=30, verbose=1, validation_data=(x_test, y_test_oh))\n",
    "\n",
    "score = model.evaluate(x_test, y_test_oh, verbose=0)\n",
    "\n",
    "print('Test loss:', score[0])\n",
    "print('Test accuracy:', score[1])"
   ]
  },
  {
   "cell_type": "code",
   "execution_count": 15,
   "metadata": {},
   "outputs": [
    {
     "data": {
      "text/plain": [
       "Text(0.5,0,'epoch')"
      ]
     },
     "execution_count": 15,
     "metadata": {},
     "output_type": "execute_result"
    },
    {
     "data": {
      "image/png": "[encoded data removed]",
      "text/plain": [
       "<Figure size 1152x432 with 2 Axes>"
      ]
     },
     "metadata": {},
     "output_type": "display_data"
    }
   ],
   "source": [
    "plt.figure(figsize=(16,6))\n",
    "plt.subplot(1,2,1)\n",
    "plt.plot(history.history['acc'])\n",
    "plt.title('model accuracy')\n",
    "plt.ylabel('accuracy')\n",
    "plt.xlabel('epoch')\n",
    "plt.subplot(1,2,2)\n",
    "plt.plot(history.history['loss'])\n",
    "plt.title('model loss')\n",
    "plt.ylabel('loss')\n",
    "plt.xlabel('epoch')"
   ]
  },
  {
   "cell_type": "markdown",
   "metadata": {},
   "source": [
    "## Arquitetura 2"
   ]
  },
  {
   "cell_type": "markdown",
   "metadata": {},
   "source": [
    "* **Número de neurônios**\n",
    "  * Layer 1: 10 neurônios\n",
    "  * Layer 2: 20 neurônios\n",
    "  * Layer 3: 10 neurônios\n",
    "  * Layer de saida: 10 neurônios\n",
    "* **Número de camadas:** 4\n",
    "* **Utilização de regularização:** Não foi utilizado regularização\n",
    "* **Funções de Ativação:** #TODO\n",
    "  * Layer 1: Relu\n",
    "  * Layer 2: Tangente Hiperbólica\n",
    "  * Layer 1: Relu\n",
    "  * Layer de saida: Softmax\n",
    "* **Otimizador:** SGD (Stochastic gradient descent)\n",
    "* **Função de Custo:** Categorical Crossentropy\n",
    "* **Mode de Treinamento:** #TODO\n",
    "* **Número de épocas:** Foram utilizadas 30 épocas\n",
    "* **Utilização de batch ou mini-batch:** Não foi utilizado "
   ]
  },
  {
   "cell_type": "code",
   "execution_count": 16,
   "metadata": {},
   "outputs": [
    {
     "name": "stdout",
     "output_type": "stream",
     "text": [
      "_________________________________________________________________\n",
      "Layer (type)                 Output Shape              Param #   \n",
      "=================================================================\n",
      "dense_7 (Dense)              (None, 10)                7850      \n",
      "_________________________________________________________________\n",
      "dense_8 (Dense)              (None, 20)                220       \n",
      "_________________________________________________________________\n",
      "dense_9 (Dense)              (None, 10)                210       \n",
      "_________________________________________________________________\n",
      "dense_10 (Dense)             (None, 10)                110       \n",
      "=================================================================\n",
      "Total params: 8,390\n",
      "Trainable params: 8,390\n",
      "Non-trainable params: 0\n",
      "_________________________________________________________________\n"
     ]
    }
   ],
   "source": [
    "model = Sequential()\n",
    "model.add(Dense(units=10, activation='relu', input_shape=(784,)))\n",
    "model.add(Dense(units=20, activation='tanh'))\n",
    "model.add(Dense(units=10, activation='relu'))\n",
    "model.add(Dense(units=num_classes, activation='softmax'))\n",
    "\n",
    "model.summary()"
   ]
  },
  {
   "cell_type": "code",
   "execution_count": 17,
   "metadata": {
    "scrolled": false
   },
   "outputs": [
    {
     "name": "stdout",
     "output_type": "stream",
     "text": [
      "Train on 60000 samples, validate on 10000 samples\n",
      "Epoch 1/30\n",
      "60000/60000 [==============================] - 15s 249us/step - loss: 1.3550 - acc: 0.5837 - val_loss: 0.6641 - val_acc: 0.8086\n",
      "Epoch 2/30\n",
      "60000/60000 [==============================] - 15s 243us/step - loss: 0.5350 - acc: 0.8516 - val_loss: 0.4259 - val_acc: 0.8828\n",
      "Epoch 3/30\n",
      "60000/60000 [==============================] - 14s 229us/step - loss: 0.4002 - acc: 0.8890 - val_loss: 0.3473 - val_acc: 0.9038\n",
      "Epoch 4/30\n",
      "60000/60000 [==============================] - 14s 229us/step - loss: 0.3421 - acc: 0.9028 - val_loss: 0.3131 - val_acc: 0.9116\n",
      "Epoch 5/30\n",
      "60000/60000 [==============================] - 14s 236us/step - loss: 0.3073 - acc: 0.9122 - val_loss: 0.2853 - val_acc: 0.9200\n",
      "Epoch 6/30\n",
      "60000/60000 [==============================] - 16s 266us/step - loss: 0.2833 - acc: 0.9194 - val_loss: 0.2644 - val_acc: 0.9260\n",
      "Epoch 7/30\n",
      "60000/60000 [==============================] - 15s 251us/step - loss: 0.2655 - acc: 0.9238 - val_loss: 0.2569 - val_acc: 0.9262\n",
      "Epoch 8/30\n",
      "60000/60000 [==============================] - 17s 284us/step - loss: 0.2515 - acc: 0.9273 - val_loss: 0.2379 - val_acc: 0.9307\n",
      "Epoch 9/30\n",
      "60000/60000 [==============================] - 12s 207us/step - loss: 0.2392 - acc: 0.9307 - val_loss: 0.2290 - val_acc: 0.9347\n",
      "Epoch 10/30\n",
      "60000/60000 [==============================] - 14s 232us/step - loss: 0.2282 - acc: 0.9338 - val_loss: 0.2249 - val_acc: 0.9362\n",
      "Epoch 11/30\n",
      "60000/60000 [==============================] - 16s 264us/step - loss: 0.2192 - acc: 0.9356 - val_loss: 0.2131 - val_acc: 0.9393\n",
      "Epoch 12/30\n",
      "60000/60000 [==============================] - 14s 240us/step - loss: 0.2122 - acc: 0.9376 - val_loss: 0.2127 - val_acc: 0.9398\n",
      "Epoch 13/30\n",
      "60000/60000 [==============================] - 14s 235us/step - loss: 0.2059 - acc: 0.9399 - val_loss: 0.2062 - val_acc: 0.9404\n",
      "Epoch 14/30\n",
      "60000/60000 [==============================] - 14s 238us/step - loss: 0.2005 - acc: 0.9414 - val_loss: 0.2054 - val_acc: 0.9413\n",
      "Epoch 15/30\n",
      "60000/60000 [==============================] - 12s 207us/step - loss: 0.1950 - acc: 0.9432 - val_loss: 0.2006 - val_acc: 0.9434\n",
      "Epoch 16/30\n",
      "60000/60000 [==============================] - 14s 238us/step - loss: 0.1909 - acc: 0.9438 - val_loss: 0.1985 - val_acc: 0.9424\n",
      "Epoch 17/30\n",
      "60000/60000 [==============================] - 15s 248us/step - loss: 0.1871 - acc: 0.9447 - val_loss: 0.1942 - val_acc: 0.9437\n",
      "Epoch 18/30\n",
      "60000/60000 [==============================] - 15s 249us/step - loss: 0.1833 - acc: 0.9464 - val_loss: 0.1927 - val_acc: 0.9447\n",
      "Epoch 19/30\n",
      "60000/60000 [==============================] - 15s 242us/step - loss: 0.1799 - acc: 0.9467 - val_loss: 0.1907 - val_acc: 0.9450\n",
      "Epoch 20/30\n",
      "60000/60000 [==============================] - 15s 251us/step - loss: 0.1769 - acc: 0.9484 - val_loss: 0.1951 - val_acc: 0.9437\n",
      "Epoch 21/30\n",
      "60000/60000 [==============================] - 19s 308us/step - loss: 0.1741 - acc: 0.9486 - val_loss: 0.1854 - val_acc: 0.9459\n",
      "Epoch 22/30\n",
      "60000/60000 [==============================] - 16s 265us/step - loss: 0.1711 - acc: 0.9502 - val_loss: 0.1904 - val_acc: 0.9448\n",
      "Epoch 23/30\n",
      "60000/60000 [==============================] - 16s 264us/step - loss: 0.1697 - acc: 0.9503 - val_loss: 0.1864 - val_acc: 0.9450\n",
      "Epoch 24/30\n",
      "60000/60000 [==============================] - 19s 312us/step - loss: 0.1673 - acc: 0.9511 - val_loss: 0.1811 - val_acc: 0.9465\n",
      "Epoch 25/30\n",
      "60000/60000 [==============================] - 16s 264us/step - loss: 0.1653 - acc: 0.9511 - val_loss: 0.1857 - val_acc: 0.9451\n",
      "Epoch 26/30\n",
      "60000/60000 [==============================] - 16s 263us/step - loss: 0.1634 - acc: 0.9521 - val_loss: 0.1800 - val_acc: 0.9488\n",
      "Epoch 27/30\n",
      "60000/60000 [==============================] - 18s 296us/step - loss: 0.1617 - acc: 0.9521 - val_loss: 0.1826 - val_acc: 0.9467\n",
      "Epoch 28/30\n",
      "60000/60000 [==============================] - 16s 263us/step - loss: 0.1602 - acc: 0.9527 - val_loss: 0.1800 - val_acc: 0.9462\n",
      "Epoch 29/30\n",
      "60000/60000 [==============================] - 19s 318us/step - loss: 0.1583 - acc: 0.9530 - val_loss: 0.1780 - val_acc: 0.9486\n",
      "Epoch 30/30\n",
      "60000/60000 [==============================] - 15s 253us/step - loss: 0.1567 - acc: 0.9539 - val_loss: 0.1765 - val_acc: 0.9463\n",
      "Test loss: 0.17654401322752236\n",
      "Test accuracy: 0.9463\n"
     ]
    }
   ],
   "source": [
    "model.compile(optimizer=\"sgd\", loss='categorical_crossentropy',  metrics=['accuracy'])\n",
    "\n",
    "history = model.fit(x=x_train, y=y_train_oh, epochs=30, verbose=1, validation_data=(x_test, y_test_oh))\n",
    "\n",
    "score = model.evaluate(x_test, y_test_oh, verbose=0)\n",
    "\n",
    "print('Test loss:', score[0])\n",
    "print('Test accuracy:', score[1])"
   ]
  },
  {
   "cell_type": "code",
   "execution_count": 18,
   "metadata": {},
   "outputs": [
    {
     "data": {
      "text/plain": [
       "Text(0.5,0,'epoch')"
      ]
     },
     "execution_count": 18,
     "metadata": {},
     "output_type": "execute_result"
    },
    {
     "data": {
      "image/png": "[encoded data removed]",
      "text/plain": [
       "<Figure size 1152x432 with 2 Axes>"
      ]
     },
     "metadata": {},
     "output_type": "display_data"
    }
   ],
   "source": [
    "plt.figure(figsize=(16,6))\n",
    "plt.subplot(1,2,1)\n",
    "plt.plot(history.history['acc'])\n",
    "plt.title('model accuracy')\n",
    "plt.ylabel('accuracy')\n",
    "plt.xlabel('epoch')\n",
    "plt.subplot(1,2,2)\n",
    "plt.plot(history.history['loss'])\n",
    "plt.title('model loss')\n",
    "plt.ylabel('loss')\n",
    "plt.xlabel('epoch')"
   ]
  },
  {
   "cell_type": "markdown",
   "metadata": {},
   "source": [
    "## Arquitetura 3"
   ]
  },
  {
   "cell_type": "markdown",
   "metadata": {},
   "source": [
    "* **Número de neurônios**\n",
    "  * Layer 1: 10 neurônios\n",
    "  * Layer 2: 40 neurônios\n",
    "  * Layer 3: 10 neurônios\n",
    "  * Layer de saida: 10 neurônios\n",
    "* **Número de camadas:** 4\n",
    "* **Utilização de regularização:** Utilizou-se Dropout de 0.5 na regularização\n",
    "* **Funções de Ativação:** #TODO\n",
    "  * Layer 1: Relu\n",
    "  * Layer 2: Tangente Hiperbólica\n",
    "  * Layer 1: Relu\n",
    "  * Layer de saida: Softmax\n",
    "* **Otimizador:** Adam\n",
    "* **Função de Custo:** Categorical Crossentropy\n",
    "* **Mode de Treinamento:** #TODO\n",
    "* **Número de épocas:** Foram utilizadas 30 épocas\n",
    "* **Utilização de batch ou mini-batch:** Não foi utilizado "
   ]
  },
  {
   "cell_type": "code",
   "execution_count": 19,
   "metadata": {},
   "outputs": [
    {
     "name": "stdout",
     "output_type": "stream",
     "text": [
      "_________________________________________________________________\n",
      "Layer (type)                 Output Shape              Param #   \n",
      "=================================================================\n",
      "dense_11 (Dense)             (None, 10)                7850      \n",
      "_________________________________________________________________\n",
      "dense_12 (Dense)             (None, 40)                440       \n",
      "_________________________________________________________________\n",
      "dropout_1 (Dropout)          (None, 40)                0         \n",
      "_________________________________________________________________\n",
      "dense_13 (Dense)             (None, 10)                410       \n",
      "_________________________________________________________________\n",
      "dense_14 (Dense)             (None, 10)                110       \n",
      "=================================================================\n",
      "Total params: 8,810\n",
      "Trainable params: 8,810\n",
      "Non-trainable params: 0\n",
      "_________________________________________________________________\n"
     ]
    }
   ],
   "source": [
    "model = Sequential()\n",
    "model.add(Dense(units=10, activation='relu', input_shape=(784,)))\n",
    "model.add(Dense(units=40, activation='tanh'))\n",
    "model.add(Dropout(rate=0.5))\n",
    "model.add(Dense(units=10, activation='relu'))\n",
    "model.add(Dense(units=num_classes, activation='softmax'))\n",
    "\n",
    "model.summary()"
   ]
  },
  {
   "cell_type": "code",
   "execution_count": 20,
   "metadata": {
    "scrolled": false
   },
   "outputs": [
    {
     "name": "stdout",
     "output_type": "stream",
     "text": [
      "Train on 60000 samples, validate on 10000 samples\n",
      "Epoch 1/30\n",
      "60000/60000 [==============================] - 18s 293us/step - loss: 0.6570 - acc: 0.7987 - val_loss: 0.3162 - val_acc: 0.9064\n",
      "Epoch 2/30\n",
      "60000/60000 [==============================] - 17s 290us/step - loss: 0.3626 - acc: 0.8984 - val_loss: 0.2780 - val_acc: 0.9179\n",
      "Epoch 3/30\n",
      "60000/60000 [==============================] - 16s 266us/step - loss: 0.3223 - acc: 0.9105 - val_loss: 0.2598 - val_acc: 0.9258\n",
      "Epoch 4/30\n",
      "60000/60000 [==============================] - 16s 270us/step - loss: 0.2936 - acc: 0.9189 - val_loss: 0.2506 - val_acc: 0.9293\n",
      "Epoch 5/30\n",
      "60000/60000 [==============================] - 17s 286us/step - loss: 0.2805 - acc: 0.9229 - val_loss: 0.2330 - val_acc: 0.9367\n",
      "Epoch 6/30\n",
      "60000/60000 [==============================] - 16s 261us/step - loss: 0.2722 - acc: 0.9253 - val_loss: 0.2292 - val_acc: 0.9344\n",
      "Epoch 7/30\n",
      "60000/60000 [==============================] - 16s 268us/step - loss: 0.2604 - acc: 0.9286 - val_loss: 0.2313 - val_acc: 0.9352\n",
      "Epoch 8/30\n",
      "60000/60000 [==============================] - 16s 267us/step - loss: 0.2544 - acc: 0.9292 - val_loss: 0.2331 - val_acc: 0.9342\n",
      "Epoch 9/30\n",
      "60000/60000 [==============================] - 16s 268us/step - loss: 0.2491 - acc: 0.9319 - val_loss: 0.2155 - val_acc: 0.9399\n",
      "Epoch 10/30\n",
      "60000/60000 [==============================] - 16s 274us/step - loss: 0.2454 - acc: 0.9323 - val_loss: 0.2167 - val_acc: 0.9376\n",
      "Epoch 11/30\n",
      "60000/60000 [==============================] - 16s 268us/step - loss: 0.2414 - acc: 0.9334 - val_loss: 0.2263 - val_acc: 0.9353\n",
      "Epoch 12/30\n",
      "60000/60000 [==============================] - 17s 290us/step - loss: 0.2373 - acc: 0.9343 - val_loss: 0.2209 - val_acc: 0.9389\n",
      "Epoch 13/30\n",
      "60000/60000 [==============================] - 16s 270us/step - loss: 0.2357 - acc: 0.9335 - val_loss: 0.2214 - val_acc: 0.9386\n",
      "Epoch 14/30\n",
      "60000/60000 [==============================] - 16s 272us/step - loss: 0.2334 - acc: 0.9342 - val_loss: 0.2284 - val_acc: 0.9360\n",
      "Epoch 15/30\n",
      "60000/60000 [==============================] - 17s 285us/step - loss: 0.2329 - acc: 0.9353 - val_loss: 0.2293 - val_acc: 0.9340\n",
      "Epoch 16/30\n",
      "60000/60000 [==============================] - 16s 270us/step - loss: 0.2283 - acc: 0.9359 - val_loss: 0.2212 - val_acc: 0.9399\n",
      "Epoch 17/30\n",
      "60000/60000 [==============================] - 17s 287us/step - loss: 0.2270 - acc: 0.9359 - val_loss: 0.2181 - val_acc: 0.9419\n",
      "Epoch 18/30\n",
      "60000/60000 [==============================] - 17s 282us/step - loss: 0.2261 - acc: 0.9370 - val_loss: 0.2192 - val_acc: 0.9396\n",
      "Epoch 19/30\n",
      "60000/60000 [==============================] - 18s 301us/step - loss: 0.2222 - acc: 0.9371 - val_loss: 0.2184 - val_acc: 0.9400\n",
      "Epoch 20/30\n",
      "60000/60000 [==============================] - 19s 320us/step - loss: 0.2225 - acc: 0.9382 - val_loss: 0.2161 - val_acc: 0.9404\n",
      "Epoch 21/30\n",
      "60000/60000 [==============================] - 19s 312us/step - loss: 0.2212 - acc: 0.9390 - val_loss: 0.2215 - val_acc: 0.9394\n",
      "Epoch 22/30\n",
      "60000/60000 [==============================] - 18s 305us/step - loss: 0.2208 - acc: 0.9386 - val_loss: 0.2161 - val_acc: 0.9413\n",
      "Epoch 23/30\n",
      "60000/60000 [==============================] - 19s 323us/step - loss: 0.2185 - acc: 0.9392 - val_loss: 0.2164 - val_acc: 0.9403\n",
      "Epoch 24/30\n",
      "60000/60000 [==============================] - 19s 310us/step - loss: 0.2160 - acc: 0.9391 - val_loss: 0.2217 - val_acc: 0.9383\n",
      "Epoch 25/30\n",
      "60000/60000 [==============================] - 19s 313us/step - loss: 0.2149 - acc: 0.9398 - val_loss: 0.2258 - val_acc: 0.9386\n",
      "Epoch 26/30\n",
      "60000/60000 [==============================] - 17s 290us/step - loss: 0.2145 - acc: 0.9394 - val_loss: 0.2197 - val_acc: 0.9411\n",
      "Epoch 27/30\n",
      "60000/60000 [==============================] - 18s 302us/step - loss: 0.2129 - acc: 0.9397 - val_loss: 0.2289 - val_acc: 0.9387\n",
      "Epoch 28/30\n",
      "60000/60000 [==============================] - 16s 264us/step - loss: 0.2132 - acc: 0.9405 - val_loss: 0.2132 - val_acc: 0.9414\n",
      "Epoch 29/30\n",
      "60000/60000 [==============================] - 18s 302us/step - loss: 0.2122 - acc: 0.9406 - val_loss: 0.2213 - val_acc: 0.9397\n",
      "Epoch 30/30\n",
      "60000/60000 [==============================] - 16s 269us/step - loss: 0.2122 - acc: 0.9407 - val_loss: 0.2147 - val_acc: 0.9409\n",
      "Test loss: 0.21471366610638798\n",
      "Test accuracy: 0.9409\n"
     ]
    }
   ],
   "source": [
    "model.compile(optimizer=\"adam\", loss='categorical_crossentropy',  metrics=['accuracy'])\n",
    "\n",
    "history = model.fit(x=x_train, y=y_train_oh, epochs=30, verbose=1, validation_data=(x_test, y_test_oh))\n",
    "\n",
    "score = model.evaluate(x_test, y_test_oh, verbose=0)\n",
    "\n",
    "print('Test loss:', score[0])\n",
    "print('Test accuracy:', score[1])"
   ]
  },
  {
   "cell_type": "code",
   "execution_count": 21,
   "metadata": {},
   "outputs": [
    {
     "data": {
      "text/plain": [
       "Text(0.5,0,'epoch')"
      ]
     },
     "execution_count": 21,
     "metadata": {},
     "output_type": "execute_result"
    },
    {
     "data": {
      "image/png": "[encoded data removed]",
      "text/plain": [
       "<Figure size 1152x432 with 2 Axes>"
      ]
     },
     "metadata": {},
     "output_type": "display_data"
    }
   ],
   "source": [
    "plt.figure(figsize=(16,6))\n",
    "plt.subplot(1,2,1)\n",
    "plt.plot(history.history['acc'])\n",
    "plt.title('model accuracy')\n",
    "plt.ylabel('accuracy')\n",
    "plt.xlabel('epoch')\n",
    "plt.subplot(1,2,2)\n",
    "plt.plot(history.history['loss'])\n",
    "plt.title('model loss')\n",
    "plt.ylabel('loss')\n",
    "plt.xlabel('epoch')"
   ]
  }
 ],
 "metadata": {
  "kernelspec": {
   "display_name": "Python 3",
   "language": "python",
   "name": "python3"
  },
  "language_info": {
   "codemirror_mode": {
    "name": "ipython",
    "version": 3
   },
   "file_extension": ".py",
   "mimetype": "text/x-python",
   "name": "python",
   "nbconvert_exporter": "python",
   "pygments_lexer": "ipython3",
   "version": "3.6.4"
  }
 },
 "nbformat": 4,
 "nbformat_minor": 2
}
