{
 "cells": [
  {
   "cell_type": "code",
   "execution_count": 1,
   "metadata": {},
   "outputs": [
    {
     "name": "stderr",
     "output_type": "stream",
     "text": [
      "C:\\Users\\diego\\Miniconda3\\envs\\agoravai\\lib\\site-packages\\h5py\\__init__.py:36: FutureWarning: Conversion of the second argument of issubdtype from `float` to `np.floating` is deprecated. In future, it will be treated as `np.float64 == np.dtype(float).type`.\n",
      "  from ._conv import register_converters as _register_converters\n",
      "Using TensorFlow backend.\n"
     ]
    }
   ],
   "source": [
    "import keras\n",
    "import tensorflow as tf\n",
    "import numpy as np\n",
    "import pandas as pd \n",
    "import matplotlib.pyplot as plt\n",
    "from sklearn.model_selection import train_test_split\n",
    "from keras.datasets import mnist\n",
    "from keras.models import Sequential\n",
    "from keras.layers import Dense, Dropout\n",
    "from keras.optimizers import RMSprop"
   ]
  },
  {
   "cell_type": "markdown",
   "metadata": {},
   "source": [
    "Em um problema real de Redes Neurais, normalmente uma instância pode possuir inúmeras entradas, resultando em uma arquitetura de rede extensa com muitos neurônios e de múltiplas camadas. \n",
    "\n",
    "Um exemplo comum de aplicação nesse escopo é um classificador de imagens, em que cada entrada representa um neurônio da camada de entrada. Sabendo disso, esse notebook tem como objetivo implementar uma Rede Neural Multicamada (MLP) para o dataset MNIST. O MNIST é um dataset de dígitos escritos a mão, conforme Figura 1. \n",
    "\n",
    "A MLP deve ser implementada de forma a utilizar uma arquitetura simples e ainda, assim, obter uma performance elevada. Ao final, três modelos de rede devem ser implementados e comparados. Os detalhes de implementação devem ser justificados a cada questão e será dividido em 5 etapas:\n",
    "* Leitura, visualização e Préprocessamento do dataset\n",
    "* Conversão do array de predições Y\n",
    "* Definição da topologia da rede (camadas e neurônios)\n",
    "* Definir otimizador, função custo e modo do treinamento (batch, mini-batch, estocástico)\n",
    "* Treinamento e avaliação de resultados\n",
    "\n",
    "![alt text](imgs/mninst.png \"Title\")"
   ]
  },
  {
   "cell_type": "markdown",
   "metadata": {},
   "source": [
    "# Leitura, visualização e pré-processamento do dataset\n",
    "\n",
    "Ao utilizar Redes Neurais para imagens, cada entrada é um pixel. Dessa forma, após a leitura do dataset, precisa-se descobrir as dimensões da imagem, a quantidade de instâncias, quantas classes e entradas são necessárias para o problema.\n",
    "\n",
    "Feito isso, algumas técnicas de pré-processamento devem ser utilizadas para melhores resultados, dentre eles converter a imagem para tons de cinza e normalizar.\n",
    "\n",
    "Sabendo disso, retorne na célula abaixo essas informações e gere uma versão normalizada do dataset \n"
   ]
  },
  {
   "cell_type": "code",
   "execution_count": 2,
   "metadata": {
    "scrolled": false
   },
   "outputs": [
    {
     "name": "stdout",
     "output_type": "stream",
     "text": [
      " Exemplos de treinamento: (60000, 28, 28)\n",
      " Labels de treinamento: (60000,)\n",
      " Exemplos de teste: (10000, 28, 28)\n",
      " Labels de teste: (10000,)\n",
      "\n",
      "60000 Amostras de treinameto\n",
      "10000 Amostras de teste\n"
     ]
    },
    {
     "data": {
      "image/png": "[encoded data removed]",
      "text/plain": [
       "<Figure size 432x288 with 1 Axes>"
      ]
     },
     "metadata": {},
     "output_type": "display_data"
    }
   ],
   "source": [
    "### leitura do dataset\n",
    "(x_train, y_train), (x_test, y_test) = mnist.load_data()\n",
    "### Visualizar instâncias\n",
    "plt.imshow(x_train[5], cmap=plt.get_cmap('gray'))\n",
    "plt.title(y_train[5])\n",
    "### Print - informações das instâncias\n",
    "print(\" Exemplos de treinamento: \" + str(x_train.shape) + \"\\n\", \n",
    "      \"Labels de treinamento: \" + str(y_train.shape) + \"\\n\", \n",
    "      \"Exemplos de teste: \" + str(x_test.shape) + \"\\n\", \n",
    "      \"Labels de teste: \" + str(y_test.shape) + \"\\n\")\n",
    "### Normalizar\n",
    "x_train = x_train.reshape(-1,784).astype('float32') / 255.0\n",
    "x_test =  x_test.reshape(-1,784).astype('float32') / 255.0\n",
    "print(x_train.shape[0], 'Amostras de treinameto')\n",
    "print(x_test.shape[0], 'Amostras de teste')"
   ]
  },
  {
   "cell_type": "markdown",
   "metadata": {},
   "source": [
    "# Conversão do array de predições Y\n",
    "\n",
    "Baseado no número de classes do problema, represente a saída como one-hot encoding. Indique a importância dessa representação."
   ]
  },
  {
   "cell_type": "code",
   "execution_count": 3,
   "metadata": {},
   "outputs": [
    {
     "name": "stdout",
     "output_type": "stream",
     "text": [
      "(60000, 10)\n",
      "(10000, 10)\n",
      "[0. 0. 1. 0. 0. 0. 0. 0. 0. 0.]\n"
     ]
    }
   ],
   "source": [
    "num_classes = 10\n",
    "\n",
    "def one_hot(true_labels,num_classes):\n",
    "    \"\"\"\n",
    "    Função que implementa o one-hot encoding\n",
    "    Entrada: true_labels - array original com os labels\n",
    "    Retorna: labels - conversão one-hot          \n",
    "    \"\"\"\n",
    "    labels = keras.utils.to_categorical(true_labels, num_classes)\n",
    "    return labels\n",
    "\n",
    "y_train_oh = one_hot(y_train, num_classes)\n",
    "y_test_oh = one_hot(y_test, num_classes)\n",
    "print(y_train_oh.shape)\n",
    "print(y_test_oh.shape)\n",
    "print(y_test_oh[1])\n",
    "#print(x_train[5])\n",
    "#print(y_train_oh[5])"
   ]
  },
  {
   "cell_type": "markdown",
   "metadata": {},
   "source": [
    "# Definição de Topologia da Rede\n",
    "\n",
    "Mostre as três arquiteturas que serão utilizadas para resolver o problema. As arquiteturas devem ser simples de forma a retornar bons resultados com a menor quantidade necessária de neurônios e camadas. As três arquiteturas devem variar apenas quanto ao número de neurônios e camadas (incluindo regularização). Baseado nisso, explique:\n",
    "* Quantos neurônios serão utilizados em cada camada?\n",
    "* Quantas camadas serão utilizadas?\n",
    "* É necessário utilizar regularização? Se sim explique a técnica que foi utilizada e o impacto nos resultados\n",
    "* Qual função de ativação será utilizada? Escolha duas funções de ativação e explique os resultados obtidos"
   ]
  },
  {
   "cell_type": "markdown",
   "metadata": {},
   "source": [
    "# Definir otimizador, função custo e modo do treinamento\n",
    "\n",
    "Uma Rede Neural é um problema de otimização, sabendo disso, explique:\n",
    "* Qual otimizador será utilizado? Escolha dois otimizadores, explique a diferença entre eles justificando a escolha e comente os resultados obtidos.\n",
    "* Será necessário utilizar uma função custo? Explique o que é uma função custo e qual será utilizada justificando a escolha.\n",
    "* Qual modo de treinamento foi utilizado? Justifique sua resposta\n",
    "* Quantas épocas serão necessárias? Caso os métodos por batch ou mini-batch sejam escolhidos, indique também o tamanho\n",
    "\n"
   ]
  },
  {
   "cell_type": "markdown",
   "metadata": {},
   "source": [
    "# Treinamento e avaliação dos resultados\n",
    "\n",
    "Treine as três redes e mostre os resultados de cada uma a partir das questões anteriores.\n"
   ]
  },
  {
   "cell_type": "markdown",
   "metadata": {},
   "source": [
    "## Arquitetura 1"
   ]
  },
  {
   "cell_type": "markdown",
   "metadata": {},
   "source": [
    "* **Número de neurônios**\n",
    "  * Layer 1: 10 neurônios\n",
    "  * Layer 2: 10 neurônios\n",
    "  * Layer de saida: 10 neurônios\n",
    "* **Número de camadas:** 3\n",
    "* **Utilização de regularização:** Não foi utilizado regularização\n",
    "* **Funções de Ativação:** #TODO\n",
    "  * Layer 1: Relu\n",
    "  * Layer 2: Tangente Hiperbólica\n",
    "  * Layer de saida: Softmax\n",
    "* **Otimizador:** Adam\n",
    "* **Função de Custo:** Categorical Crossentropy\n",
    "* **Mode de Treinamento:** #TODO\n",
    "* **Número de épocas:** Foram utilizadas 30 épocas\n",
    "* **Utilização de batch ou mini-batch:** Não foi utilizado "
   ]
  },
  {
   "cell_type": "code",
   "execution_count": 5,
   "metadata": {},
   "outputs": [
    {
     "name": "stdout",
     "output_type": "stream",
     "text": [
      "_________________________________________________________________\n",
      "Layer (type)                 Output Shape              Param #   \n",
      "=================================================================\n",
      "dense_5 (Dense)              (None, 10)                7850      \n",
      "_________________________________________________________________\n",
      "dense_6 (Dense)              (None, 10)                110       \n",
      "_________________________________________________________________\n",
      "dense_7 (Dense)              (None, 10)                110       \n",
      "=================================================================\n",
      "Total params: 8,070\n",
      "Trainable params: 8,070\n",
      "Non-trainable params: 0\n",
      "_________________________________________________________________\n"
     ]
    }
   ],
   "source": [
    "model = Sequential()\n",
    "model.add(Dense(units=10, activation='relu', input_shape=(784,)))\n",
    "model.add(Dense(units=10, activation='tanh'))\n",
    "model.add(Dense(units=num_classes, activation='softmax'))\n",
    "\n",
    "model.summary()"
   ]
  },
  {
   "cell_type": "code",
   "execution_count": 6,
   "metadata": {},
   "outputs": [
    {
     "name": "stdout",
     "output_type": "stream",
     "text": [
      "Train on 60000 samples, validate on 10000 samples\n",
      "Epoch 1/30\n",
      "60000/60000 [==============================] - 32s 527us/step - loss: 0.6532 - acc: 0.8314 - val_loss: 0.3381 - val_acc: 0.9060\n",
      "Epoch 2/30\n",
      "60000/60000 [==============================] - 19s 316us/step - loss: 0.3092 - acc: 0.9126 - val_loss: 0.2792 - val_acc: 0.9166\n",
      "Epoch 3/30\n",
      "60000/60000 [==============================] - 17s 288us/step - loss: 0.2656 - acc: 0.9225 - val_loss: 0.2611 - val_acc: 0.9204\n",
      "Epoch 4/30\n",
      "60000/60000 [==============================] - 16s 269us/step - loss: 0.2438 - acc: 0.9280 - val_loss: 0.2408 - val_acc: 0.9279\n",
      "Epoch 5/30\n",
      "60000/60000 [==============================] - 18s 305us/step - loss: 0.2286 - acc: 0.9337 - val_loss: 0.2279 - val_acc: 0.9329\n",
      "Epoch 6/30\n",
      "60000/60000 [==============================] - 20s 341us/step - loss: 0.2174 - acc: 0.9363 - val_loss: 0.2168 - val_acc: 0.9374\n",
      "Epoch 7/30\n",
      "60000/60000 [==============================] - 19s 316us/step - loss: 0.2087 - acc: 0.9392 - val_loss: 0.2158 - val_acc: 0.9364\n",
      "Epoch 8/30\n",
      "60000/60000 [==============================] - 21s 347us/step - loss: 0.2016 - acc: 0.9416 - val_loss: 0.2152 - val_acc: 0.9373\n",
      "Epoch 9/30\n",
      "60000/60000 [==============================] - 17s 289us/step - loss: 0.1969 - acc: 0.9418 - val_loss: 0.2181 - val_acc: 0.9350\n",
      "Epoch 10/30\n",
      "60000/60000 [==============================] - 17s 275us/step - loss: 0.1911 - acc: 0.9446 - val_loss: 0.2198 - val_acc: 0.9358\n",
      "Epoch 11/30\n",
      "60000/60000 [==============================] - 16s 263us/step - loss: 0.1875 - acc: 0.9449 - val_loss: 0.2158 - val_acc: 0.9376\n",
      "Epoch 12/30\n",
      "60000/60000 [==============================] - 17s 278us/step - loss: 0.1845 - acc: 0.9455 - val_loss: 0.2122 - val_acc: 0.9388\n",
      "Epoch 13/30\n",
      "60000/60000 [==============================] - 16s 267us/step - loss: 0.1803 - acc: 0.9472 - val_loss: 0.2122 - val_acc: 0.9375\n",
      "Epoch 14/30\n",
      "60000/60000 [==============================] - 15s 257us/step - loss: 0.1777 - acc: 0.9477 - val_loss: 0.2130 - val_acc: 0.9377\n",
      "Epoch 15/30\n",
      "60000/60000 [==============================] - 15s 254us/step - loss: 0.1753 - acc: 0.9494 - val_loss: 0.2226 - val_acc: 0.9356\n",
      "Epoch 16/30\n",
      "60000/60000 [==============================] - 16s 260us/step - loss: 0.1746 - acc: 0.9490 - val_loss: 0.2191 - val_acc: 0.9355\n",
      "Epoch 17/30\n",
      "60000/60000 [==============================] - 17s 276us/step - loss: 0.1704 - acc: 0.9507 - val_loss: 0.2146 - val_acc: 0.9390\n",
      "Epoch 18/30\n",
      "60000/60000 [==============================] - 16s 270us/step - loss: 0.1683 - acc: 0.9498 - val_loss: 0.2179 - val_acc: 0.9369\n",
      "Epoch 19/30\n",
      "60000/60000 [==============================] - 15s 255us/step - loss: 0.1680 - acc: 0.9504 - val_loss: 0.2131 - val_acc: 0.9391\n",
      "Epoch 20/30\n",
      "60000/60000 [==============================] - 16s 259us/step - loss: 0.1668 - acc: 0.9519 - val_loss: 0.2092 - val_acc: 0.9390\n",
      "Epoch 21/30\n",
      "60000/60000 [==============================] - 16s 263us/step - loss: 0.1636 - acc: 0.9525 - val_loss: 0.2051 - val_acc: 0.9403\n",
      "Epoch 22/30\n",
      "60000/60000 [==============================] - 15s 256us/step - loss: 0.1619 - acc: 0.9524 - val_loss: 0.2127 - val_acc: 0.9393\n",
      "Epoch 23/30\n",
      "60000/60000 [==============================] - 16s 271us/step - loss: 0.1601 - acc: 0.9527 - val_loss: 0.2185 - val_acc: 0.9357\n",
      "Epoch 24/30\n",
      "60000/60000 [==============================] - 15s 254us/step - loss: 0.1597 - acc: 0.9531 - val_loss: 0.2088 - val_acc: 0.9388\n",
      "Epoch 25/30\n",
      "60000/60000 [==============================] - 16s 263us/step - loss: 0.1572 - acc: 0.9536 - val_loss: 0.2091 - val_acc: 0.9397\n",
      "Epoch 26/30\n",
      "60000/60000 [==============================] - 15s 252us/step - loss: 0.1566 - acc: 0.9539 - val_loss: 0.2051 - val_acc: 0.9415\n",
      "Epoch 27/30\n",
      "60000/60000 [==============================] - 15s 254us/step - loss: 0.1542 - acc: 0.9553 - val_loss: 0.2271 - val_acc: 0.9354\n",
      "Epoch 28/30\n",
      "60000/60000 [==============================] - 16s 260us/step - loss: 0.1535 - acc: 0.9533 - val_loss: 0.2129 - val_acc: 0.9388\n",
      "Epoch 29/30\n",
      "60000/60000 [==============================] - 15s 256us/step - loss: 0.1519 - acc: 0.9549 - val_loss: 0.2128 - val_acc: 0.9391\n",
      "Epoch 30/30\n",
      "60000/60000 [==============================] - 15s 256us/step - loss: 0.1510 - acc: 0.9552 - val_loss: 0.2141 - val_acc: 0.9380\n",
      "Test loss: 0.2140507164955139\n",
      "Test accuracy: 0.938\n"
     ]
    }
   ],
   "source": [
    "model.compile(optimizer=\"adam\", loss='categorical_crossentropy',  metrics=['accuracy'])\n",
    "\n",
    "history = model.fit(x=x_train, y=y_train_oh, epochs=30, verbose=1, validation_data=(x_test, y_test_oh))\n",
    "\n",
    "score = model.evaluate(x_test, y_test_oh, verbose=0)\n",
    "\n",
    "print('Test loss:', score[0])\n",
    "print('Test accuracy:', score[1])"
   ]
  },
  {
   "cell_type": "code",
   "execution_count": 7,
   "metadata": {},
   "outputs": [
    {
     "data": {
      "text/plain": [
       "Text(0.5,0,'epoch')"
      ]
     },
     "execution_count": 7,
     "metadata": {},
     "output_type": "execute_result"
    },
    {
     "data": {
      "image/png": "[encoded data removed]",
      "text/plain": [
       "<Figure size 1152x432 with 2 Axes>"
      ]
     },
     "metadata": {},
     "output_type": "display_data"
    }
   ],
   "source": [
    "plt.figure(figsize=(16,6))\n",
    "plt.subplot(1,2,1)\n",
    "plt.plot(history.history['acc'])\n",
    "plt.title('model accuracy')\n",
    "plt.ylabel('accuracy')\n",
    "plt.xlabel('epoch')\n",
    "plt.subplot(1,2,2)\n",
    "plt.plot(history.history['loss'])\n",
    "plt.title('model loss')\n",
    "plt.ylabel('loss')\n",
    "plt.xlabel('epoch')"
   ]
  },
  {
   "cell_type": "markdown",
   "metadata": {},
   "source": [
    "## Arquitetura 2"
   ]
  },
  {
   "cell_type": "markdown",
   "metadata": {},
   "source": [
    "* **Número de neurônios**\n",
    "  * Layer 1: 10 neurônios\n",
    "  * Layer 2: 20 neurônios\n",
    "  * Layer 3: 10 neurônios\n",
    "  * Layer de saida: 10 neurônios\n",
    "* **Número de camadas:** 4\n",
    "* **Utilização de regularização:** Não foi utilizado regularização\n",
    "* **Funções de Ativação:** #TODO\n",
    "  * Layer 1: Relu\n",
    "  * Layer 2: Tangente Hiperbólica\n",
    "  * Layer 1: Relu\n",
    "  * Layer de saida: Softmax\n",
    "* **Otimizador:** SGD (Stochastic gradient descent)\n",
    "* **Função de Custo:** Categorical Crossentropy\n",
    "* **Mode de Treinamento:** #TODO\n",
    "* **Número de épocas:** Foram utilizadas 30 épocas\n",
    "* **Utilização de batch ou mini-batch:** Não foi utilizado "
   ]
  },
  {
   "cell_type": "code",
   "execution_count": 8,
   "metadata": {},
   "outputs": [
    {
     "name": "stdout",
     "output_type": "stream",
     "text": [
      "_________________________________________________________________\n",
      "Layer (type)                 Output Shape              Param #   \n",
      "=================================================================\n",
      "dense_8 (Dense)              (None, 10)                7850      \n",
      "_________________________________________________________________\n",
      "dense_9 (Dense)              (None, 20)                220       \n",
      "_________________________________________________________________\n",
      "dense_10 (Dense)             (None, 10)                210       \n",
      "_________________________________________________________________\n",
      "dense_11 (Dense)             (None, 10)                110       \n",
      "=================================================================\n",
      "Total params: 8,390\n",
      "Trainable params: 8,390\n",
      "Non-trainable params: 0\n",
      "_________________________________________________________________\n"
     ]
    }
   ],
   "source": [
    "model = Sequential()\n",
    "model.add(Dense(units=10, activation='relu', input_shape=(784,)))\n",
    "model.add(Dense(units=20, activation='tanh'))\n",
    "model.add(Dense(units=10, activation='relu'))\n",
    "model.add(Dense(units=num_classes, activation='softmax'))\n",
    "\n",
    "model.summary()"
   ]
  },
  {
   "cell_type": "code",
   "execution_count": 9,
   "metadata": {
    "scrolled": false
   },
   "outputs": [
    {
     "name": "stdout",
     "output_type": "stream",
     "text": [
      "Train on 60000 samples, validate on 10000 samples\n",
      "Epoch 1/30\n",
      "60000/60000 [==============================] - 21s 349us/step - loss: 1.3150 - acc: 0.5699 - val_loss: 0.7187 - val_acc: 0.7899\n",
      "Epoch 2/30\n",
      "60000/60000 [==============================] - 21s 351us/step - loss: 0.5714 - acc: 0.8397 - val_loss: 0.4624 - val_acc: 0.8684\n",
      "Epoch 3/30\n",
      "60000/60000 [==============================] - 22s 362us/step - loss: 0.4210 - acc: 0.8808 - val_loss: 0.3737 - val_acc: 0.8953\n",
      "Epoch 4/30\n",
      "60000/60000 [==============================] - 18s 299us/step - loss: 0.3514 - acc: 0.9005 - val_loss: 0.3183 - val_acc: 0.9096\n",
      "Epoch 5/30\n",
      "60000/60000 [==============================] - 15s 244us/step - loss: 0.3093 - acc: 0.9107 - val_loss: 0.2910 - val_acc: 0.9143\n",
      "Epoch 6/30\n",
      "60000/60000 [==============================] - 15s 243us/step - loss: 0.2825 - acc: 0.9183 - val_loss: 0.2676 - val_acc: 0.9225\n",
      "Epoch 7/30\n",
      "60000/60000 [==============================] - 14s 237us/step - loss: 0.2648 - acc: 0.9235 - val_loss: 0.2642 - val_acc: 0.9250\n",
      "Epoch 8/30\n",
      "60000/60000 [==============================] - 15s 256us/step - loss: 0.2516 - acc: 0.9274 - val_loss: 0.2452 - val_acc: 0.9291\n",
      "Epoch 9/30\n",
      "60000/60000 [==============================] - 15s 248us/step - loss: 0.2412 - acc: 0.9293 - val_loss: 0.2389 - val_acc: 0.9296\n",
      "Epoch 10/30\n",
      "60000/60000 [==============================] - 15s 251us/step - loss: 0.2328 - acc: 0.9327 - val_loss: 0.2401 - val_acc: 0.9309\n",
      "Epoch 11/30\n",
      "60000/60000 [==============================] - 15s 243us/step - loss: 0.2246 - acc: 0.9346 - val_loss: 0.2266 - val_acc: 0.9345\n",
      "Epoch 12/30\n",
      "60000/60000 [==============================] - 15s 245us/step - loss: 0.2185 - acc: 0.9361 - val_loss: 0.2288 - val_acc: 0.9309\n",
      "Epoch 13/30\n",
      "60000/60000 [==============================] - 15s 248us/step - loss: 0.2130 - acc: 0.9378 - val_loss: 0.2252 - val_acc: 0.9353\n",
      "Epoch 14/30\n",
      "60000/60000 [==============================] - 14s 241us/step - loss: 0.2079 - acc: 0.9392 - val_loss: 0.2114 - val_acc: 0.9381\n",
      "Epoch 15/30\n",
      "60000/60000 [==============================] - 14s 234us/step - loss: 0.2034 - acc: 0.9406 - val_loss: 0.2117 - val_acc: 0.9368\n",
      "Epoch 16/30\n",
      "60000/60000 [==============================] - 14s 241us/step - loss: 0.1988 - acc: 0.9421 - val_loss: 0.2111 - val_acc: 0.9376\n",
      "Epoch 17/30\n",
      "60000/60000 [==============================] - 14s 231us/step - loss: 0.1955 - acc: 0.9428 - val_loss: 0.2090 - val_acc: 0.9392\n",
      "Epoch 18/30\n",
      "60000/60000 [==============================] - 15s 242us/step - loss: 0.1926 - acc: 0.9442 - val_loss: 0.2062 - val_acc: 0.9385\n",
      "Epoch 19/30\n",
      "60000/60000 [==============================] - 16s 268us/step - loss: 0.1890 - acc: 0.9446 - val_loss: 0.2038 - val_acc: 0.9396\n",
      "Epoch 20/30\n",
      "60000/60000 [==============================] - 16s 260us/step - loss: 0.1865 - acc: 0.9451 - val_loss: 0.2033 - val_acc: 0.9378\n",
      "Epoch 21/30\n",
      "60000/60000 [==============================] - 15s 256us/step - loss: 0.1839 - acc: 0.9460 - val_loss: 0.1970 - val_acc: 0.9407\n",
      "Epoch 22/30\n",
      "60000/60000 [==============================] - 14s 228us/step - loss: 0.1813 - acc: 0.9462 - val_loss: 0.2009 - val_acc: 0.9391\n",
      "Epoch 23/30\n",
      "60000/60000 [==============================] - 14s 230us/step - loss: 0.1795 - acc: 0.9465 - val_loss: 0.1977 - val_acc: 0.9396\n",
      "Epoch 24/30\n",
      "60000/60000 [==============================] - 15s 242us/step - loss: 0.1767 - acc: 0.9477 - val_loss: 0.1988 - val_acc: 0.9412\n",
      "Epoch 25/30\n",
      "60000/60000 [==============================] - 14s 234us/step - loss: 0.1748 - acc: 0.9475 - val_loss: 0.1944 - val_acc: 0.9413\n",
      "Epoch 26/30\n",
      "60000/60000 [==============================] - 15s 246us/step - loss: 0.1729 - acc: 0.9488 - val_loss: 0.1946 - val_acc: 0.9420\n",
      "Epoch 27/30\n",
      "60000/60000 [==============================] - 14s 234us/step - loss: 0.1706 - acc: 0.9499 - val_loss: 0.1941 - val_acc: 0.9417\n",
      "Epoch 28/30\n",
      "60000/60000 [==============================] - 14s 234us/step - loss: 0.1692 - acc: 0.9498 - val_loss: 0.1951 - val_acc: 0.9422\n",
      "Epoch 29/30\n",
      "60000/60000 [==============================] - 15s 252us/step - loss: 0.1669 - acc: 0.9507 - val_loss: 0.1930 - val_acc: 0.9426\n",
      "Epoch 30/30\n",
      "60000/60000 [==============================] - 15s 246us/step - loss: 0.1659 - acc: 0.9509 - val_loss: 0.2036 - val_acc: 0.9377\n",
      "Test loss: 0.2036202403217554\n",
      "Test accuracy: 0.9377\n"
     ]
    }
   ],
   "source": [
    "model.compile(optimizer=\"sgd\", loss='categorical_crossentropy',  metrics=['accuracy'])\n",
    "\n",
    "history = model.fit(x=x_train, y=y_train_oh, epochs=30, verbose=1, validation_data=(x_test, y_test_oh))\n",
    "\n",
    "score = model.evaluate(x_test, y_test_oh, verbose=0)\n",
    "\n",
    "print('Test loss:', score[0])\n",
    "print('Test accuracy:', score[1])"
   ]
  },
  {
   "cell_type": "code",
   "execution_count": 10,
   "metadata": {},
   "outputs": [
    {
     "data": {
      "text/plain": [
       "Text(0.5,0,'epoch')"
      ]
     },
     "execution_count": 10,
     "metadata": {},
     "output_type": "execute_result"
    },
    {
     "data": {
      "image/png": "[encoded data removed]",
      "text/plain": [
       "<Figure size 1152x432 with 2 Axes>"
      ]
     },
     "metadata": {},
     "output_type": "display_data"
    }
   ],
   "source": [
    "plt.figure(figsize=(16,6))\n",
    "plt.subplot(1,2,1)\n",
    "plt.plot(history.history['acc'])\n",
    "plt.title('model accuracy')\n",
    "plt.ylabel('accuracy')\n",
    "plt.xlabel('epoch')\n",
    "plt.subplot(1,2,2)\n",
    "plt.plot(history.history['loss'])\n",
    "plt.title('model loss')\n",
    "plt.ylabel('loss')\n",
    "plt.xlabel('epoch')"
   ]
  },
  {
   "cell_type": "markdown",
   "metadata": {},
   "source": [
    "## Arquitetura 3"
   ]
  },
  {
   "cell_type": "markdown",
   "metadata": {},
   "source": [
    "* **Número de neurônios**\n",
    "  * Layer 1: 10 neurônios\n",
    "  * Layer 2: 40 neurônios\n",
    "  * Layer 3: 10 neurônios\n",
    "  * Layer de saida: 10 neurônios\n",
    "* **Número de camadas:** 4\n",
    "* **Utilização de regularização:** Utilizou-se Dropout de 0.5 na regularização\n",
    "* **Funções de Ativação:** #TODO\n",
    "  * Layer 1: Relu\n",
    "  * Layer 2: Tangente Hiperbólica\n",
    "  * Layer 1: Relu\n",
    "  * Layer de saida: Softmax\n",
    "* **Otimizador:** Adam\n",
    "* **Função de Custo:** Categorical Crossentropy\n",
    "* **Mode de Treinamento:** #TODO\n",
    "* **Número de épocas:** Foram utilizadas 30 épocas\n",
    "* **Utilização de batch ou mini-batch:** Não foi utilizado "
   ]
  },
  {
   "cell_type": "code",
   "execution_count": 14,
   "metadata": {},
   "outputs": [
    {
     "name": "stdout",
     "output_type": "stream",
     "text": [
      "_________________________________________________________________\n",
      "Layer (type)                 Output Shape              Param #   \n",
      "=================================================================\n",
      "dense_20 (Dense)             (None, 10)                7850      \n",
      "_________________________________________________________________\n",
      "dense_21 (Dense)             (None, 40)                440       \n",
      "_________________________________________________________________\n",
      "dropout_3 (Dropout)          (None, 40)                0         \n",
      "_________________________________________________________________\n",
      "dense_22 (Dense)             (None, 10)                410       \n",
      "_________________________________________________________________\n",
      "dense_23 (Dense)             (None, 10)                110       \n",
      "=================================================================\n",
      "Total params: 8,810\n",
      "Trainable params: 8,810\n",
      "Non-trainable params: 0\n",
      "_________________________________________________________________\n"
     ]
    }
   ],
   "source": [
    "model = Sequential()\n",
    "model.add(Dense(units=10, activation='relu', input_shape=(784,)))\n",
    "model.add(Dense(units=40, activation='tanh'))\n",
    "model.add(Dropout(rate=0.5))\n",
    "model.add(Dense(units=10, activation='relu'))\n",
    "model.add(Dense(units=num_classes, activation='softmax'))\n",
    "\n",
    "model.summary()"
   ]
  },
  {
   "cell_type": "code",
   "execution_count": 15,
   "metadata": {
    "scrolled": false
   },
   "outputs": [
    {
     "name": "stdout",
     "output_type": "stream",
     "text": [
      "Train on 60000 samples, validate on 10000 samples\n",
      "Epoch 1/30\n",
      "60000/60000 [==============================] - 18s 303us/step - loss: 0.6414 - acc: 0.8068 - val_loss: 0.2980 - val_acc: 0.9125\n",
      "Epoch 2/30\n",
      "60000/60000 [==============================] - 17s 287us/step - loss: 0.3467 - acc: 0.9030 - val_loss: 0.2455 - val_acc: 0.9268\n",
      "Epoch 3/30\n",
      "60000/60000 [==============================] - 18s 306us/step - loss: 0.3020 - acc: 0.9165 - val_loss: 0.2304 - val_acc: 0.9326\n",
      "Epoch 4/30\n",
      "60000/60000 [==============================] - 19s 310us/step - loss: 0.2820 - acc: 0.9225 - val_loss: 0.2207 - val_acc: 0.9366\n",
      "Epoch 5/30\n",
      "60000/60000 [==============================] - 21s 349us/step - loss: 0.2660 - acc: 0.9273 - val_loss: 0.2109 - val_acc: 0.9391\n",
      "Epoch 6/30\n",
      "60000/60000 [==============================] - 23s 378us/step - loss: 0.2542 - acc: 0.9303 - val_loss: 0.2091 - val_acc: 0.9374\n",
      "Epoch 7/30\n",
      "60000/60000 [==============================] - 21s 344us/step - loss: 0.2500 - acc: 0.9306 - val_loss: 0.2055 - val_acc: 0.9415\n",
      "Epoch 8/30\n",
      "60000/60000 [==============================] - 18s 294us/step - loss: 0.2414 - acc: 0.9339 - val_loss: 0.2037 - val_acc: 0.9402\n",
      "Epoch 9/30\n",
      "60000/60000 [==============================] - 19s 311us/step - loss: 0.2377 - acc: 0.9348 - val_loss: 0.1978 - val_acc: 0.9415\n",
      "Epoch 10/30\n",
      "60000/60000 [==============================] - 16s 269us/step - loss: 0.2334 - acc: 0.9354 - val_loss: 0.2087 - val_acc: 0.9402\n",
      "Epoch 11/30\n",
      "60000/60000 [==============================] - 18s 303us/step - loss: 0.2301 - acc: 0.9359 - val_loss: 0.2058 - val_acc: 0.9411\n",
      "Epoch 12/30\n",
      "60000/60000 [==============================] - 18s 307us/step - loss: 0.2268 - acc: 0.9370 - val_loss: 0.1974 - val_acc: 0.9428\n",
      "Epoch 13/30\n",
      "60000/60000 [==============================] - 22s 364us/step - loss: 0.2241 - acc: 0.9383 - val_loss: 0.1951 - val_acc: 0.9453\n",
      "Epoch 14/30\n",
      "60000/60000 [==============================] - 18s 295us/step - loss: 0.2222 - acc: 0.9383 - val_loss: 0.1968 - val_acc: 0.9436\n",
      "Epoch 15/30\n",
      "60000/60000 [==============================] - 25s 410us/step - loss: 0.2216 - acc: 0.9393 - val_loss: 0.2187 - val_acc: 0.9375\n",
      "Epoch 16/30\n",
      "60000/60000 [==============================] - 26s 440us/step - loss: 0.2173 - acc: 0.9392 - val_loss: 0.1961 - val_acc: 0.9435\n",
      "Epoch 17/30\n",
      "60000/60000 [==============================] - 24s 401us/step - loss: 0.2156 - acc: 0.9406 - val_loss: 0.1949 - val_acc: 0.9433\n",
      "Epoch 18/30\n",
      "60000/60000 [==============================] - 24s 397us/step - loss: 0.2155 - acc: 0.9409 - val_loss: 0.1995 - val_acc: 0.9446\n",
      "Epoch 19/30\n",
      "60000/60000 [==============================] - 21s 353us/step - loss: 0.2134 - acc: 0.9400 - val_loss: 0.1986 - val_acc: 0.9449\n",
      "Epoch 20/30\n",
      "60000/60000 [==============================] - 19s 308us/step - loss: 0.2128 - acc: 0.9417 - val_loss: 0.2047 - val_acc: 0.9427\n",
      "Epoch 21/30\n",
      "60000/60000 [==============================] - 17s 291us/step - loss: 0.2100 - acc: 0.9417 - val_loss: 0.2151 - val_acc: 0.9402\n",
      "Epoch 22/30\n",
      "60000/60000 [==============================] - 18s 304us/step - loss: 0.2083 - acc: 0.9416 - val_loss: 0.2012 - val_acc: 0.9418\n",
      "Epoch 23/30\n",
      "60000/60000 [==============================] - 20s 332us/step - loss: 0.2072 - acc: 0.9428 - val_loss: 0.2099 - val_acc: 0.9413\n",
      "Epoch 24/30\n",
      "60000/60000 [==============================] - 21s 352us/step - loss: 0.2065 - acc: 0.9433 - val_loss: 0.2071 - val_acc: 0.9415\n",
      "Epoch 25/30\n",
      "60000/60000 [==============================] - 21s 347us/step - loss: 0.2065 - acc: 0.9426 - val_loss: 0.1942 - val_acc: 0.9440\n",
      "Epoch 26/30\n",
      "60000/60000 [==============================] - 22s 369us/step - loss: 0.2065 - acc: 0.9422 - val_loss: 0.2026 - val_acc: 0.9448\n",
      "Epoch 27/30\n",
      "60000/60000 [==============================] - 19s 309us/step - loss: 0.2026 - acc: 0.9440 - val_loss: 0.2003 - val_acc: 0.9429\n",
      "Epoch 28/30\n",
      "60000/60000 [==============================] - 23s 376us/step - loss: 0.2033 - acc: 0.9436 - val_loss: 0.1976 - val_acc: 0.9437\n",
      "Epoch 29/30\n",
      "60000/60000 [==============================] - 22s 373us/step - loss: 0.2020 - acc: 0.9450 - val_loss: 0.2145 - val_acc: 0.9408\n",
      "Epoch 30/30\n",
      "60000/60000 [==============================] - 18s 304us/step - loss: 0.2005 - acc: 0.9437 - val_loss: 0.2132 - val_acc: 0.9398\n",
      "Test loss: 0.21324653994888068\n",
      "Test accuracy: 0.9398\n"
     ]
    }
   ],
   "source": [
    "model.compile(optimizer=\"adam\", loss='categorical_crossentropy',  metrics=['accuracy'])\n",
    "\n",
    "history = model.fit(x=x_train, y=y_train_oh, epochs=30, verbose=1, validation_data=(x_test, y_test_oh))\n",
    "\n",
    "score = model.evaluate(x_test, y_test_oh, verbose=0)\n",
    "\n",
    "print('Test loss:', score[0])\n",
    "print('Test accuracy:', score[1])"
   ]
  },
  {
   "cell_type": "code",
   "execution_count": 16,
   "metadata": {},
   "outputs": [
    {
     "data": {
      "text/plain": [
       "Text(0.5,0,'epoch')"
      ]
     },
     "execution_count": 16,
     "metadata": {},
     "output_type": "execute_result"
    },
    {
     "data": {
      "image/png": "[encoded data removed]",
      "text/plain": [
       "<Figure size 1152x432 with 2 Axes>"
      ]
     },
     "metadata": {},
     "output_type": "display_data"
    }
   ],
   "source": [
    "plt.figure(figsize=(16,6))\n",
    "plt.subplot(1,2,1)\n",
    "plt.plot(history.history['acc'])\n",
    "plt.title('model accuracy')\n",
    "plt.ylabel('accuracy')\n",
    "plt.xlabel('epoch')\n",
    "plt.subplot(1,2,2)\n",
    "plt.plot(history.history['loss'])\n",
    "plt.title('model loss')\n",
    "plt.ylabel('loss')\n",
    "plt.xlabel('epoch')"
   ]
  },
  {
   "cell_type": "code",
   "execution_count": null,
   "metadata": {},
   "outputs": [],
   "source": []
  }
 ],
 "metadata": {
  "kernelspec": {
   "display_name": "Python 3",
   "language": "python",
   "name": "python3"
  },
  "language_info": {
   "codemirror_mode": {
    "name": "ipython",
    "version": 3
   },
   "file_extension": ".py",
   "mimetype": "text/x-python",
   "name": "python",
   "nbconvert_exporter": "python",
   "pygments_lexer": "ipython3",
   "version": "3.6.4"
  }
 },
 "nbformat": 4,
 "nbformat_minor": 2
}
