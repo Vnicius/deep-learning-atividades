{
 "cells": [
  {
   "cell_type": "code",
   "execution_count": 1,
   "metadata": {},
   "outputs": [
    {
     "name": "stderr",
     "output_type": "stream",
     "text": [
      "C:\\Users\\diegofilipe\\Miniconda3\\envs\\tensorflowgpu\\lib\\site-packages\\h5py\\__init__.py:36: FutureWarning: Conversion of the second argument of issubdtype from `float` to `np.floating` is deprecated. In future, it will be treated as `np.float64 == np.dtype(float).type`.\n",
      "  from ._conv import register_converters as _register_converters\n",
      "Using TensorFlow backend.\n"
     ]
    }
   ],
   "source": [
    "import keras\n",
    "import tensorflow as tf\n",
    "import numpy as np\n",
    "import pandas as pd \n",
    "import matplotlib.pyplot as plt\n",
    "from sklearn.model_selection import train_test_split\n",
    "from keras.datasets import mnist\n",
    "from keras.models import Sequential\n",
    "from keras.layers import Dense, Dropout\n",
    "from keras.optimizers import RMSprop"
   ]
  },
  {
   "cell_type": "markdown",
   "metadata": {},
   "source": [
    "Em um problema real de Redes Neurais, normalmente uma instância pode possuir inúmeras entradas, resultando em uma arquitetura de rede extensa com muitos neurônios e de múltiplas camadas. \n",
    "\n",
    "Um exemplo comum de aplicação nesse escopo é um classificador de imagens, em que cada entrada representa um neurônio da camada de entrada. Sabendo disso, esse notebook tem como objetivo implementar uma Rede Neural Multicamada (MLP) para o dataset MNIST. O MNIST é um dataset de dígitos escritos a mão, conforme Figura 1. \n",
    "\n",
    "A MLP deve ser implementada de forma a utilizar uma arquitetura simples e ainda, assim, obter uma performance elevada. Ao final, três modelos de rede devem ser implementados e comparados. Os detalhes de implementação devem ser justificados a cada questão e será dividido em 5 etapas:\n",
    "* Leitura, visualização e Préprocessamento do dataset\n",
    "* Conversão do array de predições Y\n",
    "* Definição da topologia da rede (camadas e neurônios)\n",
    "* Definir otimizador, função custo e modo do treinamento (batch, mini-batch, estocástico)\n",
    "* Treinamento e avaliação de resultados\n",
    "\n",
    "![alt text](imgs/mninst.png \"Title\")"
   ]
  },
  {
   "cell_type": "markdown",
   "metadata": {},
   "source": [
    "# Leitura, visualização e pré-processamento do dataset\n",
    "\n",
    "Ao utilizar Redes Neurais para imagens, cada entrada é um pixel. Dessa forma, após a leitura do dataset, precisa-se descobrir as dimensões da imagem, a quantidade de instâncias, quantas classes e entradas são necessárias para o problema.\n",
    "\n",
    "Feito isso, algumas técnicas de pré-processamento devem ser utilizadas para melhores resultados, dentre eles converter a imagem para tons de cinza e normalizar.\n",
    "\n",
    "Sabendo disso, retorne na célula abaixo essas informações e gere uma versão normalizada do dataset \n"
   ]
  },
  {
   "cell_type": "code",
   "execution_count": 2,
   "metadata": {
    "scrolled": false
   },
   "outputs": [
    {
     "name": "stdout",
     "output_type": "stream",
     "text": [
      "Downloading data from https://s3.amazonaws.com/img-datasets/mnist.npz\n",
      "11493376/11490434 [==============================] - 16s 1us/step\n",
      " Exemplos de treinamento: (60000, 28, 28)\n",
      " Labels de treinamento: (60000,)\n",
      " Exemplos de teste: (10000, 28, 28)\n",
      " Labels de teste: (10000,)\n",
      "\n",
      "60000 Amostras de treinameto\n",
      "10000 Amostras de teste\n"
     ]
    },
    {
     "data": {
      "image/png": "[encoded data removed]",
      "text/plain": [
       "<Figure size 432x288 with 1 Axes>"
      ]
     },
     "metadata": {},
     "output_type": "display_data"
    }
   ],
   "source": [
    "### leitura do dataset\n",
    "(x_train, y_train), (x_test, y_test) = mnist.load_data()\n",
    "### Visualizar instâncias\n",
    "plt.imshow(x_train[5], cmap=plt.get_cmap('gray'))\n",
    "plt.title(y_train[5])\n",
    "### Print - informações das instâncias\n",
    "print(\" Exemplos de treinamento: \" + str(x_train.shape) + \"\\n\", \n",
    "      \"Labels de treinamento: \" + str(y_train.shape) + \"\\n\", \n",
    "      \"Exemplos de teste: \" + str(x_test.shape) + \"\\n\", \n",
    "      \"Labels de teste: \" + str(y_test.shape) + \"\\n\")\n",
    "### Normalizar\n",
    "x_train = x_train.reshape(-1,784).astype('float32') / 255.0\n",
    "x_test =  x_test.reshape(-1,784).astype('float32') / 255.0\n",
    "print(x_train.shape[0], 'Amostras de treinameto')\n",
    "print(x_test.shape[0], 'Amostras de teste')"
   ]
  },
  {
   "cell_type": "markdown",
   "metadata": {},
   "source": [
    "# Conversão do array de predições Y\n",
    "\n",
    "Baseado no número de classes do problema, represente a saída como one-hot encoding. Indique a importância dessa representação."
   ]
  },
  {
   "cell_type": "code",
   "execution_count": 3,
   "metadata": {},
   "outputs": [
    {
     "name": "stdout",
     "output_type": "stream",
     "text": [
      "(60000, 10)\n",
      "(10000, 10)\n",
      "[0. 0. 1. 0. 0. 0. 0. 0. 0. 0.]\n"
     ]
    }
   ],
   "source": [
    "num_classes = 10\n",
    "\n",
    "def one_hot(true_labels,num_classes):\n",
    "    \"\"\"\n",
    "    Função que implementa o one-hot encoding\n",
    "    Entrada: true_labels - array original com os labels\n",
    "    Retorna: labels - conversão one-hot          \n",
    "    \"\"\"\n",
    "    labels = keras.utils.to_categorical(true_labels, num_classes)\n",
    "    return labels\n",
    "\n",
    "y_train_oh = one_hot(y_train, num_classes)\n",
    "y_test_oh = one_hot(y_test, num_classes)\n",
    "print(y_train_oh.shape)\n",
    "print(y_test_oh.shape)\n",
    "print(y_test_oh[1])\n",
    "#print(x_train[5])\n",
    "#print(y_train_oh[5])"
   ]
  },
  {
   "cell_type": "markdown",
   "metadata": {},
   "source": [
    "# Definição de Topologia da Rede\n",
    "\n",
    "Mostre as três arquiteturas que serão utilizadas para resolver o problema. As arquiteturas devem ser simples de forma a retornar bons resultados com a menor quantidade necessária de neurônios e camadas. As três arquiteturas devem variar apenas quanto ao número de neurônios e camadas (incluindo regularização). Baseado nisso, explique:\n",
    "* Quantos neurônios serão utilizados em cada camada?\n",
    "* Quantas camadas serão utilizadas?\n",
    "* É necessário utilizar regularização? Se sim explique a técnica que foi utilizada e o impacto nos resultados\n",
    "* Qual função de ativação será utilizada? Escolha duas funções de ativação e explique os resultados obtidos"
   ]
  },
  {
   "cell_type": "markdown",
   "metadata": {},
   "source": [
    "# Definir otimizador, função custo e modo do treinamento\n",
    "\n",
    "Uma Rede Neural é um problema de otimização, sabendo disso, explique:\n",
    "* Qual otimizador será utilizado? Escolha dois otimizadores, explique a diferença entre eles justificando a escolha e comente os resultados obtidos.\n",
    "* Será necessário utilizar uma função custo? Explique o que é uma função custo e qual será utilizada justificando a escolha.\n",
    "* Qual modo de treinamento foi utilizado? Justifique sua resposta\n",
    "* Quantas épocas serão necessárias? Caso os métodos por batch ou mini-batch sejam escolhidos, indique também o tamanho\n",
    "\n"
   ]
  },
  {
   "cell_type": "markdown",
   "metadata": {},
   "source": [
    "# Treinamento e avaliação dos resultados\n",
    "\n",
    "Treine as três redes e mostre os resultados de cada uma a partir das questões anteriores.\n"
   ]
  },
  {
   "cell_type": "markdown",
   "metadata": {},
   "source": [
    "## Arquitetura 1"
   ]
  },
  {
   "cell_type": "markdown",
   "metadata": {},
   "source": [
    "* Número de neuronios: \n",
    "* Número de camadas:\n",
    "* Utilização de regularização:\n",
    "* Número de épocas:\n",
    "* Utilização de batch ou mini-batch:"
   ]
  },
  {
   "cell_type": "code",
   "execution_count": 26,
   "metadata": {},
   "outputs": [
    {
     "name": "stdout",
     "output_type": "stream",
     "text": [
      "_________________________________________________________________\n",
      "Layer (type)                 Output Shape              Param #   \n",
      "=================================================================\n",
      "dense_18 (Dense)             (None, 10)                7850      \n",
      "_________________________________________________________________\n",
      "dense_19 (Dense)             (None, 10)                110       \n",
      "_________________________________________________________________\n",
      "dense_20 (Dense)             (None, 10)                110       \n",
      "=================================================================\n",
      "Total params: 8,070\n",
      "Trainable params: 8,070\n",
      "Non-trainable params: 0\n",
      "_________________________________________________________________\n"
     ]
    }
   ],
   "source": [
    "model = Sequential()\n",
    "model.add(Dense(units=10, activation='relu', input_shape=(784,)))\n",
    "model.add(Dense(units=10, activation='tanh'))\n",
    "model.add(Dense(units=num_classes, activation='softmax'))\n",
    "model.compile(optimizer=\"adam\", loss='categorical_crossentropy',  metrics=['accuracy'])\n",
    "\n",
    "model.summary()"
   ]
  },
  {
   "cell_type": "code",
   "execution_count": 27,
   "metadata": {},
   "outputs": [
    {
     "name": "stdout",
     "output_type": "stream",
     "text": [
      "Train on 60000 samples, validate on 10000 samples\n",
      "Epoch 1/30\n",
      "60000/60000 [==============================] - 17s 291us/step - loss: 0.5969 - acc: 0.8505 - val_loss: 0.2963 - val_acc: 0.9207\n",
      "Epoch 2/30\n",
      "60000/60000 [==============================] - 17s 288us/step - loss: 0.2761 - acc: 0.9234 - val_loss: 0.2534 - val_acc: 0.9304\n",
      "Epoch 3/30\n",
      "60000/60000 [==============================] - 18s 300us/step - loss: 0.2371 - acc: 0.9328 - val_loss: 0.2346 - val_acc: 0.9343\n",
      "Epoch 4/30\n",
      "60000/60000 [==============================] - 17s 285us/step - loss: 0.2174 - acc: 0.9377 - val_loss: 0.2171 - val_acc: 0.9368\n",
      "Epoch 5/30\n",
      "60000/60000 [==============================] - 17s 288us/step - loss: 0.2050 - acc: 0.9412 - val_loss: 0.2185 - val_acc: 0.9375\n",
      "Epoch 6/30\n",
      "60000/60000 [==============================] - 18s 292us/step - loss: 0.1954 - acc: 0.9440 - val_loss: 0.2070 - val_acc: 0.9397\n",
      "Epoch 7/30\n",
      "60000/60000 [==============================] - 18s 296us/step - loss: 0.1874 - acc: 0.9454 - val_loss: 0.2060 - val_acc: 0.9418\n",
      "Epoch 8/30\n",
      "60000/60000 [==============================] - 18s 296us/step - loss: 0.1816 - acc: 0.9465 - val_loss: 0.2032 - val_acc: 0.9416\n",
      "Epoch 9/30\n",
      "60000/60000 [==============================] - 18s 300us/step - loss: 0.1758 - acc: 0.9483 - val_loss: 0.2000 - val_acc: 0.9415\n",
      "Epoch 10/30\n",
      "60000/60000 [==============================] - 18s 303us/step - loss: 0.1729 - acc: 0.9493 - val_loss: 0.1952 - val_acc: 0.9434\n",
      "Epoch 11/30\n",
      "60000/60000 [==============================] - 18s 300us/step - loss: 0.1691 - acc: 0.9506 - val_loss: 0.1985 - val_acc: 0.9427\n",
      "Epoch 12/30\n",
      "60000/60000 [==============================] - 18s 300us/step - loss: 0.1657 - acc: 0.9516 - val_loss: 0.1939 - val_acc: 0.9450\n",
      "Epoch 13/30\n",
      "60000/60000 [==============================] - 18s 303us/step - loss: 0.1629 - acc: 0.9524 - val_loss: 0.1906 - val_acc: 0.9456\n",
      "Epoch 14/30\n",
      "60000/60000 [==============================] - 18s 298us/step - loss: 0.1612 - acc: 0.9529 - val_loss: 0.1938 - val_acc: 0.9443\n",
      "Epoch 15/30\n",
      "60000/60000 [==============================] - 18s 304us/step - loss: 0.1577 - acc: 0.9537 - val_loss: 0.1941 - val_acc: 0.9444\n",
      "Epoch 16/30\n",
      "60000/60000 [==============================] - 18s 304us/step - loss: 0.1569 - acc: 0.9541 - val_loss: 0.1912 - val_acc: 0.9458\n",
      "Epoch 17/30\n",
      "60000/60000 [==============================] - 18s 305us/step - loss: 0.1537 - acc: 0.9546 - val_loss: 0.1998 - val_acc: 0.9445\n",
      "Epoch 18/30\n",
      "60000/60000 [==============================] - 19s 309us/step - loss: 0.1532 - acc: 0.9550 - val_loss: 0.1988 - val_acc: 0.9434\n",
      "Epoch 19/30\n",
      "60000/60000 [==============================] - 18s 306us/step - loss: 0.1512 - acc: 0.9551 - val_loss: 0.1936 - val_acc: 0.9451\n",
      "Epoch 20/30\n",
      "60000/60000 [==============================] - 18s 304us/step - loss: 0.1478 - acc: 0.9566 - val_loss: 0.2054 - val_acc: 0.9441\n",
      "Epoch 21/30\n",
      "60000/60000 [==============================] - 18s 307us/step - loss: 0.1485 - acc: 0.9563 - val_loss: 0.1926 - val_acc: 0.9448\n",
      "Epoch 22/30\n",
      "60000/60000 [==============================] - 19s 312us/step - loss: 0.1466 - acc: 0.9568 - val_loss: 0.1914 - val_acc: 0.9470\n",
      "Epoch 23/30\n",
      "60000/60000 [==============================] - 19s 318us/step - loss: 0.1447 - acc: 0.9573 - val_loss: 0.2026 - val_acc: 0.9433\n",
      "Epoch 24/30\n",
      "60000/60000 [==============================] - 16s 265us/step - loss: 0.1445 - acc: 0.9571 - val_loss: 0.2012 - val_acc: 0.9416\n",
      "Epoch 25/30\n",
      "60000/60000 [==============================] - 16s 261us/step - loss: 0.1422 - acc: 0.9581 - val_loss: 0.1962 - val_acc: 0.9441\n",
      "Epoch 26/30\n",
      "60000/60000 [==============================] - 15s 252us/step - loss: 0.1417 - acc: 0.9580 - val_loss: 0.1941 - val_acc: 0.9468\n",
      "Epoch 27/30\n",
      "60000/60000 [==============================] - 16s 259us/step - loss: 0.1400 - acc: 0.9585 - val_loss: 0.1983 - val_acc: 0.9436\n",
      "Epoch 28/30\n",
      "60000/60000 [==============================] - 16s 260us/step - loss: 0.1398 - acc: 0.9584 - val_loss: 0.1986 - val_acc: 0.9439\n",
      "Epoch 29/30\n",
      "60000/60000 [==============================] - 15s 255us/step - loss: 0.1382 - acc: 0.9594 - val_loss: 0.1985 - val_acc: 0.9461\n",
      "Epoch 30/30\n",
      "60000/60000 [==============================] - 16s 271us/step - loss: 0.1372 - acc: 0.9598 - val_loss: 0.2041 - val_acc: 0.9440\n",
      "Test loss: 0.2041460793659091\n",
      "Test accuracy: 0.944\n"
     ]
    }
   ],
   "source": [
    "model.compile(optimizer=\"adam\", loss='categorical_crossentropy',  metrics=['accuracy'])\n",
    "\n",
    "history = model.fit(x=x_train, y=y_train_oh, epochs=30, verbose=1, validation_data=(x_test, y_test_oh))\n",
    "\n",
    "score = model.evaluate(x_test, y_test_oh, verbose=0)\n",
    "\n",
    "print('Test loss:', score[0])\n",
    "print('Test accuracy:', score[1])"
   ]
  },
  {
   "cell_type": "code",
   "execution_count": 34,
   "metadata": {},
   "outputs": [
    {
     "data": {
      "text/plain": [
       "Text(0.5,0,'epoch')"
      ]
     },
     "execution_count": 34,
     "metadata": {},
     "output_type": "execute_result"
    },
    {
     "data": {
      "image/png": "[encoded data removed]",
      "text/plain": [
       "<Figure size 1152x432 with 2 Axes>"
      ]
     },
     "metadata": {},
     "output_type": "display_data"
    }
   ],
   "source": [
    "plt.figure(figsize=(16,6))\n",
    "plt.subplot(1,2,1)\n",
    "plt.plot(history.history['acc'])\n",
    "plt.title('model accuracy')\n",
    "plt.ylabel('accuracy')\n",
    "plt.xlabel('epoch')\n",
    "plt.subplot(1,2,2)\n",
    "plt.plot(history.history['loss'])\n",
    "plt.title('model loss')\n",
    "plt.ylabel('loss')\n",
    "plt.xlabel('epoch')"
   ]
  },
  {
   "cell_type": "markdown",
   "metadata": {},
   "source": [
    "## Arquitetura 2"
   ]
  },
  {
   "cell_type": "markdown",
   "metadata": {},
   "source": [
    "* Número de neuronios: \n",
    "* Número de camadas:\n",
    "* Utilização de regularização:\n",
    "* Número de épocas:\n",
    "* Utilização de batch ou mini-batch:"
   ]
  },
  {
   "cell_type": "code",
   "execution_count": 35,
   "metadata": {},
   "outputs": [
    {
     "name": "stdout",
     "output_type": "stream",
     "text": [
      "_________________________________________________________________\n",
      "Layer (type)                 Output Shape              Param #   \n",
      "=================================================================\n",
      "dense_25 (Dense)             (None, 10)                7850      \n",
      "_________________________________________________________________\n",
      "dense_26 (Dense)             (None, 20)                220       \n",
      "_________________________________________________________________\n",
      "dense_27 (Dense)             (None, 10)                210       \n",
      "_________________________________________________________________\n",
      "dense_28 (Dense)             (None, 10)                110       \n",
      "=================================================================\n",
      "Total params: 8,390\n",
      "Trainable params: 8,390\n",
      "Non-trainable params: 0\n",
      "_________________________________________________________________\n"
     ]
    }
   ],
   "source": [
    "model = Sequential()\n",
    "model.add(Dense(units=10, activation='relu', input_shape=(784,)))\n",
    "model.add(Dense(units=20, activation='relu'))\n",
    "model.add(Dense(units=10, activation='tanh'))\n",
    "model.add(Dense(units=num_classes, activation='softmax'))\n",
    "model.compile(optimizer='sgd', loss='categorical_crossentropy',  metrics=['accuracy'])\n",
    "\n",
    "model.summary()"
   ]
  },
  {
   "cell_type": "code",
   "execution_count": 36,
   "metadata": {
    "scrolled": false
   },
   "outputs": [
    {
     "name": "stdout",
     "output_type": "stream",
     "text": [
      "Train on 60000 samples, validate on 10000 samples\n",
      "Epoch 1/30\n",
      "60000/60000 [==============================] - 19s 321us/step - loss: 0.6241 - acc: 0.8339 - val_loss: 0.3649 - val_acc: 0.8971\n",
      "Epoch 2/30\n",
      "60000/60000 [==============================] - 19s 312us/step - loss: 0.3182 - acc: 0.9112 - val_loss: 0.2852 - val_acc: 0.9196\n",
      "Epoch 3/30\n",
      "60000/60000 [==============================] - 19s 316us/step - loss: 0.2699 - acc: 0.9229 - val_loss: 0.2610 - val_acc: 0.9230\n",
      "Epoch 4/30\n",
      "60000/60000 [==============================] - 19s 317us/step - loss: 0.2442 - acc: 0.9295 - val_loss: 0.2415 - val_acc: 0.9296\n",
      "Epoch 5/30\n",
      "60000/60000 [==============================] - 16s 272us/step - loss: 0.2286 - acc: 0.9335 - val_loss: 0.2423 - val_acc: 0.9271\n",
      "Epoch 6/30\n",
      "60000/60000 [==============================] - 16s 269us/step - loss: 0.2176 - acc: 0.9373 - val_loss: 0.2364 - val_acc: 0.9314\n",
      "Epoch 7/30\n",
      "60000/60000 [==============================] - 17s 278us/step - loss: 0.2087 - acc: 0.9395 - val_loss: 0.2215 - val_acc: 0.9342\n",
      "Epoch 8/30\n",
      "60000/60000 [==============================] - 16s 270us/step - loss: 0.2034 - acc: 0.9406 - val_loss: 0.2141 - val_acc: 0.9361\n",
      "Epoch 9/30\n",
      "60000/60000 [==============================] - 16s 271us/step - loss: 0.1978 - acc: 0.9416 - val_loss: 0.2125 - val_acc: 0.9368\n",
      "Epoch 10/30\n",
      "60000/60000 [==============================] - 16s 269us/step - loss: 0.1923 - acc: 0.9433 - val_loss: 0.2305 - val_acc: 0.9324\n",
      "Epoch 11/30\n",
      "60000/60000 [==============================] - 16s 270us/step - loss: 0.1878 - acc: 0.9453 - val_loss: 0.2231 - val_acc: 0.9330\n",
      "Epoch 12/30\n",
      "60000/60000 [==============================] - 16s 269us/step - loss: 0.1848 - acc: 0.9454 - val_loss: 0.2137 - val_acc: 0.9373\n",
      "Epoch 13/30\n",
      "60000/60000 [==============================] - 16s 269us/step - loss: 0.1807 - acc: 0.9459 - val_loss: 0.2097 - val_acc: 0.9381\n",
      "Epoch 14/30\n",
      "60000/60000 [==============================] - 17s 276us/step - loss: 0.1776 - acc: 0.9472 - val_loss: 0.2156 - val_acc: 0.9357\n",
      "Epoch 15/30\n",
      "60000/60000 [==============================] - 16s 269us/step - loss: 0.1756 - acc: 0.9480 - val_loss: 0.2162 - val_acc: 0.9369\n",
      "Epoch 16/30\n",
      "60000/60000 [==============================] - 16s 270us/step - loss: 0.1733 - acc: 0.9487 - val_loss: 0.2139 - val_acc: 0.9360\n",
      "Epoch 17/30\n",
      "60000/60000 [==============================] - 16s 272us/step - loss: 0.1702 - acc: 0.9499 - val_loss: 0.2144 - val_acc: 0.9380\n",
      "Epoch 18/30\n",
      "60000/60000 [==============================] - 16s 271us/step - loss: 0.1682 - acc: 0.9496 - val_loss: 0.2076 - val_acc: 0.9403\n",
      "Epoch 19/30\n",
      "60000/60000 [==============================] - 17s 280us/step - loss: 0.1654 - acc: 0.9510 - val_loss: 0.2092 - val_acc: 0.9403\n",
      "Epoch 20/30\n",
      "60000/60000 [==============================] - 16s 270us/step - loss: 0.1638 - acc: 0.9513 - val_loss: 0.2109 - val_acc: 0.9377\n",
      "Epoch 21/30\n",
      "60000/60000 [==============================] - 16s 270us/step - loss: 0.1625 - acc: 0.9516 - val_loss: 0.2048 - val_acc: 0.9405\n",
      "Epoch 22/30\n",
      "60000/60000 [==============================] - 16s 271us/step - loss: 0.1607 - acc: 0.9527 - val_loss: 0.2071 - val_acc: 0.9413\n",
      "Epoch 23/30\n",
      "60000/60000 [==============================] - 17s 276us/step - loss: 0.1577 - acc: 0.9532 - val_loss: 0.2102 - val_acc: 0.9390\n",
      "Epoch 24/30\n",
      "60000/60000 [==============================] - 16s 265us/step - loss: 0.1566 - acc: 0.9530 - val_loss: 0.2073 - val_acc: 0.9418\n",
      "Epoch 25/30\n",
      "60000/60000 [==============================] - 16s 266us/step - loss: 0.1558 - acc: 0.9533 - val_loss: 0.2052 - val_acc: 0.9421\n",
      "Epoch 26/30\n",
      "60000/60000 [==============================] - 16s 266us/step - loss: 0.1549 - acc: 0.9535 - val_loss: 0.2103 - val_acc: 0.9401\n",
      "Epoch 27/30\n",
      "60000/60000 [==============================] - 16s 264us/step - loss: 0.1539 - acc: 0.9542 - val_loss: 0.2076 - val_acc: 0.9404\n",
      "Epoch 28/30\n",
      "60000/60000 [==============================] - 16s 265us/step - loss: 0.1530 - acc: 0.9541 - val_loss: 0.2111 - val_acc: 0.9390\n",
      "Epoch 29/30\n",
      "60000/60000 [==============================] - 16s 266us/step - loss: 0.1500 - acc: 0.9551 - val_loss: 0.2104 - val_acc: 0.9415\n",
      "Epoch 30/30\n",
      "60000/60000 [==============================] - 16s 267us/step - loss: 0.1497 - acc: 0.9554 - val_loss: 0.2114 - val_acc: 0.9398\n",
      "Test loss: 0.21140744885653256\n",
      "Test accuracy: 0.9398\n"
     ]
    }
   ],
   "source": [
    "model.compile(optimizer=\"adam\", loss='categorical_crossentropy',  metrics=['accuracy'])\n",
    "\n",
    "history = model.fit(x=x_train, y=y_train_oh, epochs=30, verbose=1, validation_data=(x_test, y_test_oh))\n",
    "\n",
    "score = model.evaluate(x_test, y_test_oh, verbose=0)\n",
    "\n",
    "print('Test loss:', score[0])\n",
    "print('Test accuracy:', score[1])"
   ]
  },
  {
   "cell_type": "code",
   "execution_count": 37,
   "metadata": {},
   "outputs": [
    {
     "data": {
      "text/plain": [
       "Text(0.5,0,'epoch')"
      ]
     },
     "execution_count": 37,
     "metadata": {},
     "output_type": "execute_result"
    },
    {
     "data": {
      "image/png": "[encoded data removed]",
      "text/plain": [
       "<Figure size 1152x432 with 2 Axes>"
      ]
     },
     "metadata": {},
     "output_type": "display_data"
    }
   ],
   "source": [
    "plt.figure(figsize=(16,6))\n",
    "plt.subplot(1,2,1)\n",
    "plt.plot(history.history['acc'])\n",
    "plt.title('model accuracy')\n",
    "plt.ylabel('accuracy')\n",
    "plt.xlabel('epoch')\n",
    "plt.subplot(1,2,2)\n",
    "plt.plot(history.history['loss'])\n",
    "plt.title('model loss')\n",
    "plt.ylabel('loss')\n",
    "plt.xlabel('epoch')"
   ]
  },
  {
   "cell_type": "markdown",
   "metadata": {},
   "source": [
    "## Arquitetura 3"
   ]
  },
  {
   "cell_type": "markdown",
   "metadata": {},
   "source": [
    "* Número de neuronios: \n",
    "* Número de camadas:\n",
    "* Utilização de regularização:\n",
    "* Número de épocas:\n",
    "* Utilização de batch ou mini-batch:"
   ]
  },
  {
   "cell_type": "code",
   "execution_count": 38,
   "metadata": {},
   "outputs": [
    {
     "name": "stdout",
     "output_type": "stream",
     "text": [
      "_________________________________________________________________\n",
      "Layer (type)                 Output Shape              Param #   \n",
      "=================================================================\n",
      "dense_29 (Dense)             (None, 10)                7850      \n",
      "_________________________________________________________________\n",
      "dense_30 (Dense)             (None, 40)                440       \n",
      "_________________________________________________________________\n",
      "dropout_1 (Dropout)          (None, 40)                0         \n",
      "_________________________________________________________________\n",
      "dense_31 (Dense)             (None, 10)                410       \n",
      "_________________________________________________________________\n",
      "dense_32 (Dense)             (None, 10)                110       \n",
      "=================================================================\n",
      "Total params: 8,810\n",
      "Trainable params: 8,810\n",
      "Non-trainable params: 0\n",
      "_________________________________________________________________\n"
     ]
    }
   ],
   "source": [
    "model = Sequential()\n",
    "model.add(Dense(units=10, activation='relu', input_shape=(784,)))\n",
    "model.add(Dense(units=40, activation='tanh'))\n",
    "model.add(Dropout(rate=0.5))\n",
    "model.add(Dense(units=10, activation='relu'))\n",
    "model.add(Dense(units=num_classes, activation='softmax'))\n",
    "\n",
    "model.summary()"
   ]
  },
  {
   "cell_type": "code",
   "execution_count": 39,
   "metadata": {
    "scrolled": false
   },
   "outputs": [
    {
     "name": "stdout",
     "output_type": "stream",
     "text": [
      "Train on 60000 samples, validate on 10000 samples\n",
      "Epoch 1/30\n",
      "60000/60000 [==============================] - 20s 340us/step - loss: 0.7763 - acc: 0.7504 - val_loss: 0.3807 - val_acc: 0.8890\n",
      "Epoch 2/30\n",
      "60000/60000 [==============================] - 20s 330us/step - loss: 0.4251 - acc: 0.8797 - val_loss: 0.3119 - val_acc: 0.9084\n",
      "Epoch 3/30\n",
      "60000/60000 [==============================] - 20s 327us/step - loss: 0.3606 - acc: 0.9000 - val_loss: 0.2781 - val_acc: 0.9165\n",
      "Epoch 4/30\n",
      "60000/60000 [==============================] - 20s 329us/step - loss: 0.3350 - acc: 0.9077 - val_loss: 0.2655 - val_acc: 0.9249\n",
      "Epoch 5/30\n",
      "60000/60000 [==============================] - 20s 334us/step - loss: 0.3201 - acc: 0.9113 - val_loss: 0.2661 - val_acc: 0.9226\n",
      "Epoch 6/30\n",
      "60000/60000 [==============================] - 20s 339us/step - loss: 0.3090 - acc: 0.9143 - val_loss: 0.2575 - val_acc: 0.9274\n",
      "Epoch 7/30\n",
      "60000/60000 [==============================] - 20s 325us/step - loss: 0.2974 - acc: 0.9177 - val_loss: 0.2475 - val_acc: 0.9281\n",
      "Epoch 8/30\n",
      "60000/60000 [==============================] - 19s 321us/step - loss: 0.2958 - acc: 0.9190 - val_loss: 0.2472 - val_acc: 0.9287\n",
      "Epoch 9/30\n",
      "60000/60000 [==============================] - 19s 323us/step - loss: 0.2858 - acc: 0.9207 - val_loss: 0.2490 - val_acc: 0.9304\n",
      "Epoch 10/30\n",
      "60000/60000 [==============================] - 20s 331us/step - loss: 0.2832 - acc: 0.9212 - val_loss: 0.2456 - val_acc: 0.9286\n",
      "Epoch 11/30\n",
      "60000/60000 [==============================] - 20s 330us/step - loss: 0.2717 - acc: 0.9244 - val_loss: 0.2467 - val_acc: 0.9304\n",
      "Epoch 12/30\n",
      "60000/60000 [==============================] - 20s 331us/step - loss: 0.2730 - acc: 0.9252 - val_loss: 0.2522 - val_acc: 0.9269\n",
      "Epoch 13/30\n",
      "60000/60000 [==============================] - 19s 325us/step - loss: 0.2688 - acc: 0.9252 - val_loss: 0.2416 - val_acc: 0.9304\n",
      "Epoch 14/30\n",
      "60000/60000 [==============================] - 19s 323us/step - loss: 0.2655 - acc: 0.9267 - val_loss: 0.2419 - val_acc: 0.9309\n",
      "Epoch 15/30\n",
      "60000/60000 [==============================] - 21s 342us/step - loss: 0.2612 - acc: 0.9285 - val_loss: 0.2369 - val_acc: 0.9319\n",
      "Epoch 16/30\n",
      "60000/60000 [==============================] - 21s 354us/step - loss: 0.2617 - acc: 0.9276 - val_loss: 0.2440 - val_acc: 0.9319\n",
      "Epoch 17/30\n",
      "60000/60000 [==============================] - 20s 336us/step - loss: 0.2580 - acc: 0.9290 - val_loss: 0.2356 - val_acc: 0.9323\n",
      "Epoch 18/30\n",
      "60000/60000 [==============================] - 20s 335us/step - loss: 0.2543 - acc: 0.9300 - val_loss: 0.2385 - val_acc: 0.9305\n",
      "Epoch 19/30\n",
      "60000/60000 [==============================] - 20s 332us/step - loss: 0.2547 - acc: 0.9299 - val_loss: 0.2413 - val_acc: 0.9327\n",
      "Epoch 20/30\n",
      "60000/60000 [==============================] - 20s 333us/step - loss: 0.2523 - acc: 0.9312 - val_loss: 0.2327 - val_acc: 0.9333\n",
      "Epoch 21/30\n",
      "60000/60000 [==============================] - 20s 332us/step - loss: 0.2504 - acc: 0.9298 - val_loss: 0.2332 - val_acc: 0.9342\n",
      "Epoch 22/30\n",
      "60000/60000 [==============================] - 20s 339us/step - loss: 0.2469 - acc: 0.9307 - val_loss: 0.2406 - val_acc: 0.9314\n",
      "Epoch 23/30\n",
      "60000/60000 [==============================] - 21s 346us/step - loss: 0.2463 - acc: 0.9311 - val_loss: 0.2347 - val_acc: 0.9329\n",
      "Epoch 24/30\n",
      "60000/60000 [==============================] - 20s 328us/step - loss: 0.2446 - acc: 0.9315 - val_loss: 0.2369 - val_acc: 0.9333\n",
      "Epoch 25/30\n",
      "60000/60000 [==============================] - 19s 324us/step - loss: 0.2433 - acc: 0.9331 - val_loss: 0.2485 - val_acc: 0.9305\n",
      "Epoch 26/30\n",
      "60000/60000 [==============================] - 20s 328us/step - loss: 0.2415 - acc: 0.9321 - val_loss: 0.2339 - val_acc: 0.9345\n",
      "Epoch 27/30\n",
      "60000/60000 [==============================] - 20s 334us/step - loss: 0.2413 - acc: 0.9329 - val_loss: 0.2348 - val_acc: 0.9344\n",
      "Epoch 28/30\n",
      "60000/60000 [==============================] - 21s 346us/step - loss: 0.2415 - acc: 0.9336 - val_loss: 0.2365 - val_acc: 0.9326\n",
      "Epoch 29/30\n",
      "60000/60000 [==============================] - 21s 348us/step - loss: 0.2402 - acc: 0.9330 - val_loss: 0.2326 - val_acc: 0.9328\n",
      "Epoch 30/30\n",
      "60000/60000 [==============================] - 20s 326us/step - loss: 0.2403 - acc: 0.9332 - val_loss: 0.2373 - val_acc: 0.9322\n",
      "Test loss: 0.23730912039205432\n",
      "Test accuracy: 0.9322\n"
     ]
    }
   ],
   "source": [
    "model.compile(optimizer=\"adam\", loss='categorical_crossentropy',  metrics=['accuracy'])\n",
    "\n",
    "history = model.fit(x=x_train, y=y_train_oh, epochs=30, verbose=1, validation_data=(x_test, y_test_oh))\n",
    "\n",
    "score = model.evaluate(x_test, y_test_oh, verbose=0)\n",
    "\n",
    "print('Test loss:', score[0])\n",
    "print('Test accuracy:', score[1])"
   ]
  },
  {
   "cell_type": "code",
   "execution_count": 40,
   "metadata": {},
   "outputs": [
    {
     "data": {
      "text/plain": [
       "Text(0.5,0,'epoch')"
      ]
     },
     "execution_count": 40,
     "metadata": {},
     "output_type": "execute_result"
    },
    {
     "data": {
      "image/png": "[encoded data removed]",
      "text/plain": [
       "<Figure size 1152x432 with 2 Axes>"
      ]
     },
     "metadata": {},
     "output_type": "display_data"
    }
   ],
   "source": [
    "plt.figure(figsize=(16,6))\n",
    "plt.subplot(1,2,1)\n",
    "plt.plot(history.history['acc'])\n",
    "plt.title('model accuracy')\n",
    "plt.ylabel('accuracy')\n",
    "plt.xlabel('epoch')\n",
    "plt.subplot(1,2,2)\n",
    "plt.plot(history.history['loss'])\n",
    "plt.title('model loss')\n",
    "plt.ylabel('loss')\n",
    "plt.xlabel('epoch')"
   ]
  }
 ],
 "metadata": {
  "kernelspec": {
   "display_name": "Python 3",
   "language": "python",
   "name": "python3"
  },
  "language_info": {
   "codemirror_mode": {
    "name": "ipython",
    "version": 3
   },
   "file_extension": ".py",
   "mimetype": "text/x-python",
   "name": "python",
   "nbconvert_exporter": "python",
   "pygments_lexer": "ipython3",
   "version": "3.5.2"
  }
 },
 "nbformat": 4,
 "nbformat_minor": 2
}
