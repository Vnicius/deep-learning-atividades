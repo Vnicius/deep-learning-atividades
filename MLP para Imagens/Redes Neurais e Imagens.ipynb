{
 "cells": [
  {
   "cell_type": "code",
   "execution_count": 1,
   "metadata": {},
   "outputs": [
    {
     "name": "stderr",
     "output_type": "stream",
     "text": [
      "C:\\Users\\diego\\Miniconda3\\envs\\agoravai\\lib\\site-packages\\h5py\\__init__.py:36: FutureWarning: Conversion of the second argument of issubdtype from `float` to `np.floating` is deprecated. In future, it will be treated as `np.float64 == np.dtype(float).type`.\n",
      "  from ._conv import register_converters as _register_converters\n",
      "Using TensorFlow backend.\n"
     ]
    }
   ],
   "source": [
    "import keras\n",
    "import tensorflow as tf\n",
    "import numpy as np\n",
    "import pandas as pd \n",
    "import matplotlib.pyplot as plt\n",
    "from sklearn.model_selection import train_test_split\n",
    "from keras.datasets import mnist\n",
    "from keras.models import Sequential\n",
    "from keras.layers import Dense, Dropout\n",
    "from keras.optimizers import RMSprop"
   ]
  },
  {
   "cell_type": "markdown",
   "metadata": {},
   "source": [
    "Em um problema real de Redes Neurais, normalmente uma instância pode possuir inúmeras entradas, resultando em uma arquitetura de rede extensa com muitos neurônios e de múltiplas camadas. \n",
    "\n",
    "Um exemplo comum de aplicação nesse escopo é um classificador de imagens, em que cada entrada representa um neurônio da camada de entrada. Sabendo disso, esse notebook tem como objetivo implementar uma Rede Neural Multicamada (MLP) para o dataset MNIST. O MNIST é um dataset de dígitos escritos a mão, conforme Figura 1. \n",
    "\n",
    "A MLP deve ser implementada de forma a utilizar uma arquitetura simples e ainda, assim, obter uma performance elevada. Ao final, três modelos de rede devem ser implementados e comparados. Os detalhes de implementação devem ser justificados a cada questão e será dividido em 5 etapas:\n",
    "* Leitura, visualização e Préprocessamento do dataset\n",
    "* Conversão do array de predições Y\n",
    "* Definição da topologia da rede (camadas e neurônios)\n",
    "* Definir otimizador, função custo e modo do treinamento (batch, mini-batch, estocástico)\n",
    "* Treinamento e avaliação de resultados\n",
    "\n",
    "![alt text](imgs/mninst.png \"Title\")"
   ]
  },
  {
   "cell_type": "markdown",
   "metadata": {},
   "source": [
    "# Leitura, visualização e pré-processamento do dataset\n",
    "\n",
    "Ao utilizar Redes Neurais para imagens, cada entrada é um pixel. Dessa forma, após a leitura do dataset, precisa-se descobrir as dimensões da imagem, a quantidade de instâncias, quantas classes e entradas são necessárias para o problema.\n",
    "\n",
    "Feito isso, algumas técnicas de pré-processamento devem ser utilizadas para melhores resultados, dentre eles converter a imagem para tons de cinza e normalizar.\n",
    "\n",
    "Sabendo disso, retorne na célula abaixo essas informações e gere uma versão normalizada do dataset \n"
   ]
  },
  {
   "cell_type": "code",
   "execution_count": 29,
   "metadata": {
    "scrolled": false
   },
   "outputs": [
    {
     "name": "stdout",
     "output_type": "stream",
     "text": [
      " Exemplos de treinamento: (60000, 28, 28)\n",
      " Labels de treinamento: (60000,)\n",
      " Exemplos de teste: (10000, 28, 28)\n",
      " Labels de teste: (10000,)\n",
      "\n",
      "60000 Amostras de treinameto\n",
      "10000 Amostras de teste\n"
     ]
    },
    {
     "data": {
      "image/png": "[encoded data removed]",
      "text/plain": [
       "<Figure size 432x288 with 1 Axes>"
      ]
     },
     "metadata": {},
     "output_type": "display_data"
    }
   ],
   "source": [
    "### leitura do dataset\n",
    "(x_train, y_train), (x_test, y_test) = mnist.load_data()\n",
    "### Visualizar instâncias\n",
    "plt.imshow(x_train[5], cmap=plt.get_cmap('gray'))\n",
    "plt.title(y_train[5])\n",
    "### Print - informações das instâncias\n",
    "print(\" Exemplos de treinamento: \" + str(x_train.shape) + \"\\n\", \n",
    "      \"Labels de treinamento: \" + str(y_train.shape) + \"\\n\", \n",
    "      \"Exemplos de teste: \" + str(x_test.shape) + \"\\n\", \n",
    "      \"Labels de teste: \" + str(y_test.shape) + \"\\n\")\n",
    "### Normalizar\n",
    "x_train = x_train.reshape(60000,784).astype('float32') / 255\n",
    "x_test =  x_test.reshape(10000,784).astype('float32') / 255\n",
    "print(x_train.shape[0], 'Amostras de treinameto')\n",
    "print(x_test.shape[0], 'Amostras de teste')"
   ]
  },
  {
   "cell_type": "markdown",
   "metadata": {},
   "source": [
    "# Conversão do array de predições Y\n",
    "\n",
    "Baseado no número de classes do problema, represente a saída como one-hot encoding. Indique a importância dessa representação."
   ]
  },
  {
   "cell_type": "code",
   "execution_count": 27,
   "metadata": {},
   "outputs": [
    {
     "name": "stdout",
     "output_type": "stream",
     "text": [
      "(60000, 10)\n",
      "(10000, 10)\n",
      "[0. 0. 1. 0. 0. 0. 0. 0. 0. 0.]\n"
     ]
    }
   ],
   "source": [
    "num_classes = 10\n",
    "\n",
    "def one_hot(true_labels,num_classes):\n",
    "    \"\"\"\n",
    "    Função que implementa o one-hot encoding\n",
    "    Entrada: true_labels - array original com os labels\n",
    "    Retorna: labels - conversão one-hot          \n",
    "    \"\"\"\n",
    "    labels = keras.utils.to_categorical(true_labels, num_classes)\n",
    "    return labels\n",
    "\n",
    "y_train_oh = one_hot(y_train, num_classes)\n",
    "y_test_oh = one_hot(y_test, num_classes)\n",
    "print(y_train_oh.shape)\n",
    "print(y_test_oh.shape)\n",
    "print(y_test_oh[1])\n",
    "#print(x_train[5])\n",
    "#print(y_train_oh[5])"
   ]
  },
  {
   "cell_type": "markdown",
   "metadata": {},
   "source": [
    "# Definição de Topologia da Rede\n",
    "\n",
    "Mostre as três arquiteturas que serão utilizadas para resolver o problema. As arquiteturas devem ser simples de forma a retornar bons resultados com a menor quantidade necessária de neurônios e camadas. As três arquiteturas devem variar apenas quanto ao número de neurônios e camadas (incluindo regularização). Baseado nisso, explique:\n",
    "* Quantos neurônios serão utilizados em cada camada?\n",
    "* Quantas camadas serão utilizadas?\n",
    "* É necessário utilizar regularização? Se sim explique a técnica que foi utilizada e o impacto nos resultados\n",
    "* Qual função de ativação será utilizada? Escolha duas funções de ativação e explique os resultados obtidos"
   ]
  },
  {
   "cell_type": "markdown",
   "metadata": {},
   "source": [
    "## Arquitetura 1"
   ]
  },
  {
   "cell_type": "code",
   "execution_count": 45,
   "metadata": {},
   "outputs": [
    {
     "name": "stdout",
     "output_type": "stream",
     "text": [
      "_________________________________________________________________\n",
      "Layer (type)                 Output Shape              Param #   \n",
      "=================================================================\n",
      "dense_59 (Dense)             (None, 32)                25120     \n",
      "_________________________________________________________________\n",
      "dense_60 (Dense)             (None, 32)                1056      \n",
      "_________________________________________________________________\n",
      "dense_61 (Dense)             (None, 10)                330       \n",
      "=================================================================\n",
      "Total params: 26,506\n",
      "Trainable params: 26,506\n",
      "Non-trainable params: 0\n",
      "_________________________________________________________________\n",
      "Train on 60000 samples, validate on 10000 samples\n",
      "Epoch 1/30\n",
      "60000/60000 [==============================] - 3s 47us/step - loss: 0.7242 - acc: 0.8016 - val_loss: 0.3010 - val_acc: 0.9165\n",
      "Epoch 2/30\n",
      "60000/60000 [==============================] - 2s 38us/step - loss: 0.2736 - acc: 0.9228 - val_loss: 0.2338 - val_acc: 0.9337\n",
      "Epoch 3/30\n",
      "60000/60000 [==============================] - 2s 36us/step - loss: 0.2261 - acc: 0.9363 - val_loss: 0.2041 - val_acc: 0.9411\n",
      "Epoch 4/30\n",
      "60000/60000 [==============================] - 2s 36us/step - loss: 0.1983 - acc: 0.9434 - val_loss: 0.1872 - val_acc: 0.9474\n",
      "Epoch 5/30\n",
      "60000/60000 [==============================] - 2s 37us/step - loss: 0.1769 - acc: 0.9497 - val_loss: 0.1815 - val_acc: 0.9460\n",
      "Epoch 6/30\n",
      "60000/60000 [==============================] - 2s 36us/step - loss: 0.1620 - acc: 0.9536 - val_loss: 0.1628 - val_acc: 0.9529\n",
      "Epoch 7/30\n",
      "60000/60000 [==============================] - 2s 41us/step - loss: 0.1489 - acc: 0.9554 - val_loss: 0.1575 - val_acc: 0.9542\n",
      "Epoch 8/30\n",
      "60000/60000 [==============================] - 2s 34us/step - loss: 0.1392 - acc: 0.9585 - val_loss: 0.1453 - val_acc: 0.9564\n",
      "Epoch 9/30\n",
      "60000/60000 [==============================] - 2s 32us/step - loss: 0.1302 - acc: 0.9612 - val_loss: 0.1420 - val_acc: 0.9574\n",
      "Epoch 10/30\n",
      "60000/60000 [==============================] - 2s 34us/step - loss: 0.1215 - acc: 0.9638 - val_loss: 0.1389 - val_acc: 0.9572\n",
      "Epoch 11/30\n",
      "60000/60000 [==============================] - 2s 32us/step - loss: 0.1152 - acc: 0.9661 - val_loss: 0.1319 - val_acc: 0.9603\n",
      "Epoch 12/30\n",
      "60000/60000 [==============================] - 2s 34us/step - loss: 0.1077 - acc: 0.9684 - val_loss: 0.1345 - val_acc: 0.9607\n",
      "Epoch 13/30\n",
      "60000/60000 [==============================] - 2s 33us/step - loss: 0.1026 - acc: 0.9698 - val_loss: 0.1333 - val_acc: 0.9600\n",
      "Epoch 14/30\n",
      "60000/60000 [==============================] - 2s 33us/step - loss: 0.0989 - acc: 0.9709 - val_loss: 0.1274 - val_acc: 0.9607\n",
      "Epoch 15/30\n",
      "60000/60000 [==============================] - 2s 32us/step - loss: 0.0944 - acc: 0.9718 - val_loss: 0.1269 - val_acc: 0.9597\n",
      "Epoch 16/30\n",
      "60000/60000 [==============================] - 2s 33us/step - loss: 0.0907 - acc: 0.9730 - val_loss: 0.1229 - val_acc: 0.9625\n",
      "Epoch 17/30\n",
      "60000/60000 [==============================] - 2s 33us/step - loss: 0.0863 - acc: 0.9744 - val_loss: 0.1202 - val_acc: 0.9623\n",
      "Epoch 18/30\n",
      "60000/60000 [==============================] - 2s 33us/step - loss: 0.0825 - acc: 0.9757 - val_loss: 0.1205 - val_acc: 0.9622\n",
      "Epoch 19/30\n",
      "60000/60000 [==============================] - 2s 32us/step - loss: 0.0795 - acc: 0.9761 - val_loss: 0.1250 - val_acc: 0.9618\n",
      "Epoch 20/30\n",
      "60000/60000 [==============================] - 2s 32us/step - loss: 0.0763 - acc: 0.9772 - val_loss: 0.1264 - val_acc: 0.9611\n",
      "Epoch 21/30\n",
      "60000/60000 [==============================] - 2s 32us/step - loss: 0.0733 - acc: 0.9781 - val_loss: 0.1173 - val_acc: 0.9632\n",
      "Epoch 22/30\n",
      "60000/60000 [==============================] - 2s 32us/step - loss: 0.0699 - acc: 0.9794 - val_loss: 0.1218 - val_acc: 0.9640\n",
      "Epoch 23/30\n",
      "60000/60000 [==============================] - 2s 32us/step - loss: 0.0679 - acc: 0.9796 - val_loss: 0.1175 - val_acc: 0.9632\n",
      "Epoch 24/30\n",
      "60000/60000 [==============================] - 2s 32us/step - loss: 0.0648 - acc: 0.9804 - val_loss: 0.1163 - val_acc: 0.9644\n",
      "Epoch 25/30\n",
      "60000/60000 [==============================] - 2s 32us/step - loss: 0.0627 - acc: 0.9812 - val_loss: 0.1220 - val_acc: 0.9630\n",
      "Epoch 26/30\n",
      "60000/60000 [==============================] - 2s 32us/step - loss: 0.0622 - acc: 0.9816 - val_loss: 0.1195 - val_acc: 0.9647\n",
      "Epoch 27/30\n",
      "60000/60000 [==============================] - 2s 32us/step - loss: 0.0583 - acc: 0.9828 - val_loss: 0.1200 - val_acc: 0.9646\n",
      "Epoch 28/30\n",
      "60000/60000 [==============================] - 2s 32us/step - loss: 0.0575 - acc: 0.9828 - val_loss: 0.1186 - val_acc: 0.9672\n",
      "Epoch 29/30\n",
      "60000/60000 [==============================] - 2s 33us/step - loss: 0.0545 - acc: 0.9842 - val_loss: 0.1178 - val_acc: 0.9660\n",
      "Epoch 30/30\n",
      "60000/60000 [==============================] - 2s 34us/step - loss: 0.0548 - acc: 0.9831 - val_loss: 0.1226 - val_acc: 0.9637\n",
      "Test loss: 0.12257182073467411\n",
      "Test accuracy: 0.9637\n"
     ]
    }
   ],
   "source": [
    "model = Sequential()\n",
    "model.add(Dense(units=32, activation='relu', input_shape=(784,)))\n",
    "model.add(Dense(units=32, activation='relu'))\n",
    "model.add(Dense(units=num_classes, activation='sigmoid'))\n",
    "model.compile(optimizer=\"adam\", loss='categorical_crossentropy',  metrics=['accuracy'])\n",
    "\n",
    "model.summary()\n",
    "\n",
    "history = model.fit(x=x_train, y=y_train_oh, batch_size=256, epochs=30, verbose=1, validation_data=(x_test, y_test_oh))\n",
    "\n",
    "score = model.evaluate(x_test, y_test_oh, verbose=0)\n",
    "\n",
    "print('Test loss:', score[0])\n",
    "print('Test accuracy:', score[1])"
   ]
  },
  {
   "cell_type": "markdown",
   "metadata": {},
   "source": [
    "## Arquitetura 2"
   ]
  },
  {
   "cell_type": "code",
   "execution_count": 48,
   "metadata": {
    "scrolled": false
   },
   "outputs": [
    {
     "name": "stdout",
     "output_type": "stream",
     "text": [
      "_________________________________________________________________\n",
      "Layer (type)                 Output Shape              Param #   \n",
      "=================================================================\n",
      "dense_70 (Dense)             (None, 32)                25120     \n",
      "_________________________________________________________________\n",
      "dense_71 (Dense)             (None, 64)                2112      \n",
      "_________________________________________________________________\n",
      "dense_72 (Dense)             (None, 32)                2080      \n",
      "_________________________________________________________________\n",
      "dense_73 (Dense)             (None, 10)                330       \n",
      "=================================================================\n",
      "Total params: 29,642\n",
      "Trainable params: 29,642\n",
      "Non-trainable params: 0\n",
      "_________________________________________________________________\n",
      "Train on 60000 samples, validate on 10000 samples\n",
      "Epoch 1/30\n",
      "60000/60000 [==============================] - 3s 52us/step - loss: 0.7060 - acc: 0.7991 - val_loss: 0.2732 - val_acc: 0.9248\n",
      "Epoch 2/30\n",
      "60000/60000 [==============================] - 2s 39us/step - loss: 0.2426 - acc: 0.9300 - val_loss: 0.2152 - val_acc: 0.9364\n",
      "Epoch 3/30\n",
      "60000/60000 [==============================] - 2s 39us/step - loss: 0.1965 - acc: 0.9430 - val_loss: 0.2093 - val_acc: 0.9381\n",
      "Epoch 4/30\n",
      "60000/60000 [==============================] - 2s 40us/step - loss: 0.1686 - acc: 0.9507 - val_loss: 0.1741 - val_acc: 0.9477\n",
      "Epoch 5/30\n",
      "60000/60000 [==============================] - 2s 39us/step - loss: 0.1476 - acc: 0.9577 - val_loss: 0.1509 - val_acc: 0.9571\n",
      "Epoch 6/30\n",
      "60000/60000 [==============================] - 2s 39us/step - loss: 0.1345 - acc: 0.9610 - val_loss: 0.1543 - val_acc: 0.9563\n",
      "Epoch 7/30\n",
      "60000/60000 [==============================] - 2s 39us/step - loss: 0.1229 - acc: 0.9639 - val_loss: 0.1463 - val_acc: 0.9569\n",
      "Epoch 8/30\n",
      "60000/60000 [==============================] - 2s 39us/step - loss: 0.1146 - acc: 0.9665 - val_loss: 0.1345 - val_acc: 0.9609\n",
      "Epoch 9/30\n",
      "60000/60000 [==============================] - 2s 39us/step - loss: 0.1058 - acc: 0.9682 - val_loss: 0.1230 - val_acc: 0.9632\n",
      "Epoch 10/30\n",
      "60000/60000 [==============================] - 2s 39us/step - loss: 0.0989 - acc: 0.9705 - val_loss: 0.1238 - val_acc: 0.9633\n",
      "Epoch 11/30\n",
      "60000/60000 [==============================] - 2s 40us/step - loss: 0.0925 - acc: 0.9721 - val_loss: 0.1146 - val_acc: 0.9633\n",
      "Epoch 12/30\n",
      "60000/60000 [==============================] - 2s 40us/step - loss: 0.0853 - acc: 0.9746 - val_loss: 0.1202 - val_acc: 0.9640\n",
      "Epoch 13/30\n",
      "60000/60000 [==============================] - 2s 39us/step - loss: 0.0809 - acc: 0.9754 - val_loss: 0.1163 - val_acc: 0.9641\n",
      "Epoch 14/30\n",
      "60000/60000 [==============================] - 2s 39us/step - loss: 0.0758 - acc: 0.9766 - val_loss: 0.1244 - val_acc: 0.9642\n",
      "Epoch 15/30\n",
      "60000/60000 [==============================] - 2s 39us/step - loss: 0.0724 - acc: 0.9777 - val_loss: 0.1090 - val_acc: 0.9683\n",
      "Epoch 16/30\n",
      "60000/60000 [==============================] - 2s 39us/step - loss: 0.0690 - acc: 0.9787 - val_loss: 0.1133 - val_acc: 0.9667\n",
      "Epoch 17/30\n",
      "60000/60000 [==============================] - 3s 43us/step - loss: 0.0652 - acc: 0.9798 - val_loss: 0.1103 - val_acc: 0.9688\n",
      "Epoch 18/30\n",
      "60000/60000 [==============================] - 3s 43us/step - loss: 0.0615 - acc: 0.9812 - val_loss: 0.1077 - val_acc: 0.9698\n",
      "Epoch 19/30\n",
      "60000/60000 [==============================] - 2s 40us/step - loss: 0.0582 - acc: 0.9822 - val_loss: 0.1100 - val_acc: 0.9670\n",
      "Epoch 20/30\n",
      "60000/60000 [==============================] - 2s 39us/step - loss: 0.0567 - acc: 0.9825 - val_loss: 0.1073 - val_acc: 0.9686\n",
      "Epoch 21/30\n",
      "60000/60000 [==============================] - 2s 39us/step - loss: 0.0524 - acc: 0.9838 - val_loss: 0.1169 - val_acc: 0.9683\n",
      "Epoch 22/30\n",
      "60000/60000 [==============================] - 2s 40us/step - loss: 0.0502 - acc: 0.9842 - val_loss: 0.1110 - val_acc: 0.9669\n",
      "Epoch 23/30\n",
      "60000/60000 [==============================] - 2s 39us/step - loss: 0.0495 - acc: 0.9841 - val_loss: 0.1098 - val_acc: 0.9703\n",
      "Epoch 24/30\n",
      "60000/60000 [==============================] - 2s 39us/step - loss: 0.0463 - acc: 0.9855 - val_loss: 0.1116 - val_acc: 0.9686\n",
      "Epoch 25/30\n",
      "60000/60000 [==============================] - 2s 39us/step - loss: 0.0436 - acc: 0.9866 - val_loss: 0.1069 - val_acc: 0.9714\n",
      "Epoch 26/30\n",
      "60000/60000 [==============================] - 2s 40us/step - loss: 0.0409 - acc: 0.9876 - val_loss: 0.1158 - val_acc: 0.9687\n",
      "Epoch 27/30\n",
      "60000/60000 [==============================] - 2s 40us/step - loss: 0.0381 - acc: 0.9882 - val_loss: 0.1130 - val_acc: 0.9691\n",
      "Epoch 28/30\n",
      "60000/60000 [==============================] - 2s 39us/step - loss: 0.0363 - acc: 0.9887 - val_loss: 0.1145 - val_acc: 0.9694\n",
      "Epoch 29/30\n",
      "60000/60000 [==============================] - 2s 40us/step - loss: 0.0363 - acc: 0.9882 - val_loss: 0.1228 - val_acc: 0.9669\n",
      "Epoch 30/30\n",
      "60000/60000 [==============================] - 2s 40us/step - loss: 0.0324 - acc: 0.9897 - val_loss: 0.1125 - val_acc: 0.9709\n",
      "Test loss: 0.11252735372448223\n",
      "Test accuracy: 0.9709\n"
     ]
    }
   ],
   "source": [
    "model = Sequential()\n",
    "model.add(Dense(units=32, activation='relu', input_shape=(784,)))\n",
    "model.add(Dense(units=64, activation='relu'))\n",
    "model.add(Dense(units=32, activation='relu'))\n",
    "model.add(Dense(units=num_classes, activation='sigmoid'))\n",
    "model.compile(optimizer=\"adam\", loss='categorical_crossentropy',  metrics=['accuracy'])\n",
    "\n",
    "model.summary()\n",
    "\n",
    "history = model.fit(x=x_train, y=y_train_oh, batch_size=256, epochs=30, verbose=1, validation_data=(x_test, y_test_oh))\n",
    "\n",
    "score = model.evaluate(x_test, y_test_oh, verbose=0)\n",
    "\n",
    "print('Test loss:', score[0])\n",
    "print('Test accuracy:', score[1])"
   ]
  },
  {
   "cell_type": "markdown",
   "metadata": {},
   "source": [
    "## Arquitetura 3"
   ]
  },
  {
   "cell_type": "code",
   "execution_count": 51,
   "metadata": {},
   "outputs": [
    {
     "name": "stdout",
     "output_type": "stream",
     "text": [
      "_________________________________________________________________\n",
      "Layer (type)                 Output Shape              Param #   \n",
      "=================================================================\n",
      "dense_82 (Dense)             (None, 64)                50240     \n",
      "_________________________________________________________________\n",
      "dense_83 (Dense)             (None, 32)                2080      \n",
      "_________________________________________________________________\n",
      "dense_84 (Dense)             (None, 16)                528       \n",
      "_________________________________________________________________\n",
      "dense_85 (Dense)             (None, 10)                170       \n",
      "=================================================================\n",
      "Total params: 53,018\n",
      "Trainable params: 53,018\n",
      "Non-trainable params: 0\n",
      "_________________________________________________________________\n",
      "Train on 60000 samples, validate on 10000 samples\n",
      "Epoch 1/30\n",
      "60000/60000 [==============================] - 4s 62us/step - loss: 0.7532 - acc: 0.7760 - val_loss: 0.2943 - val_acc: 0.9169\n",
      "Epoch 2/30\n",
      "60000/60000 [==============================] - 2s 38us/step - loss: 0.2549 - acc: 0.9275 - val_loss: 0.2207 - val_acc: 0.9340\n",
      "Epoch 3/30\n",
      "60000/60000 [==============================] - 2s 38us/step - loss: 0.1969 - acc: 0.9432 - val_loss: 0.1855 - val_acc: 0.9413\n",
      "Epoch 4/30\n",
      "60000/60000 [==============================] - 2s 39us/step - loss: 0.1637 - acc: 0.9524 - val_loss: 0.1630 - val_acc: 0.9493\n",
      "Epoch 5/30\n",
      "60000/60000 [==============================] - 2s 38us/step - loss: 0.1409 - acc: 0.9590 - val_loss: 0.1482 - val_acc: 0.9546\n",
      "Epoch 6/30\n",
      "60000/60000 [==============================] - 2s 38us/step - loss: 0.1243 - acc: 0.9636 - val_loss: 0.1338 - val_acc: 0.9591\n",
      "Epoch 7/30\n",
      "60000/60000 [==============================] - 2s 38us/step - loss: 0.1118 - acc: 0.9671 - val_loss: 0.1274 - val_acc: 0.9604\n",
      "Epoch 8/30\n",
      "60000/60000 [==============================] - 2s 39us/step - loss: 0.1007 - acc: 0.9702 - val_loss: 0.1231 - val_acc: 0.9619\n",
      "Epoch 9/30\n",
      "60000/60000 [==============================] - 3s 42us/step - loss: 0.0910 - acc: 0.9730 - val_loss: 0.1140 - val_acc: 0.9655\n",
      "Epoch 10/30\n",
      "60000/60000 [==============================] - 3s 46us/step - loss: 0.0835 - acc: 0.9752 - val_loss: 0.1095 - val_acc: 0.9668\n",
      "Epoch 11/30\n",
      "60000/60000 [==============================] - 2s 40us/step - loss: 0.0772 - acc: 0.9773 - val_loss: 0.1141 - val_acc: 0.9665\n",
      "Epoch 12/30\n",
      "60000/60000 [==============================] - 2s 39us/step - loss: 0.0717 - acc: 0.9789 - val_loss: 0.1029 - val_acc: 0.9687\n",
      "Epoch 13/30\n",
      "60000/60000 [==============================] - 2s 41us/step - loss: 0.0641 - acc: 0.9809 - val_loss: 0.1130 - val_acc: 0.9662\n",
      "Epoch 14/30\n",
      "60000/60000 [==============================] - 2s 39us/step - loss: 0.0600 - acc: 0.9818 - val_loss: 0.1010 - val_acc: 0.9719\n",
      "Epoch 15/30\n",
      "60000/60000 [==============================] - 2s 39us/step - loss: 0.0556 - acc: 0.9840 - val_loss: 0.0997 - val_acc: 0.9707\n",
      "Epoch 16/30\n",
      "60000/60000 [==============================] - 2s 39us/step - loss: 0.0532 - acc: 0.9837 - val_loss: 0.1081 - val_acc: 0.9683\n",
      "Epoch 17/30\n",
      "60000/60000 [==============================] - 2s 39us/step - loss: 0.0485 - acc: 0.9854 - val_loss: 0.1028 - val_acc: 0.9703\n",
      "Epoch 18/30\n",
      "60000/60000 [==============================] - 2s 42us/step - loss: 0.0471 - acc: 0.9858 - val_loss: 0.1049 - val_acc: 0.9699\n",
      "Epoch 19/30\n",
      "60000/60000 [==============================] - 2s 40us/step - loss: 0.0415 - acc: 0.9875 - val_loss: 0.1072 - val_acc: 0.9700\n",
      "Epoch 20/30\n",
      "60000/60000 [==============================] - 2s 39us/step - loss: 0.0381 - acc: 0.9887 - val_loss: 0.0994 - val_acc: 0.9731\n",
      "Epoch 21/30\n",
      "60000/60000 [==============================] - 2s 39us/step - loss: 0.0373 - acc: 0.9890 - val_loss: 0.1059 - val_acc: 0.9704\n",
      "Epoch 22/30\n",
      "60000/60000 [==============================] - 2s 41us/step - loss: 0.0342 - acc: 0.9895 - val_loss: 0.1081 - val_acc: 0.9715\n",
      "Epoch 23/30\n",
      "60000/60000 [==============================] - 2s 39us/step - loss: 0.0301 - acc: 0.9913 - val_loss: 0.1102 - val_acc: 0.9699\n",
      "Epoch 24/30\n",
      "60000/60000 [==============================] - 2s 39us/step - loss: 0.0278 - acc: 0.9919 - val_loss: 0.1046 - val_acc: 0.9726\n",
      "Epoch 25/30\n",
      "60000/60000 [==============================] - 2s 40us/step - loss: 0.0258 - acc: 0.9923 - val_loss: 0.1069 - val_acc: 0.9726\n",
      "Epoch 26/30\n",
      "60000/60000 [==============================] - 2s 39us/step - loss: 0.0251 - acc: 0.9923 - val_loss: 0.1027 - val_acc: 0.9741\n",
      "Epoch 27/30\n",
      "60000/60000 [==============================] - 2s 39us/step - loss: 0.0238 - acc: 0.9927 - val_loss: 0.1144 - val_acc: 0.9714\n",
      "Epoch 28/30\n",
      "60000/60000 [==============================] - 2s 39us/step - loss: 0.0217 - acc: 0.9935 - val_loss: 0.1054 - val_acc: 0.9744\n",
      "Epoch 29/30\n",
      "60000/60000 [==============================] - 2s 39us/step - loss: 0.0197 - acc: 0.9944 - val_loss: 0.1273 - val_acc: 0.9680\n",
      "Epoch 30/30\n",
      "60000/60000 [==============================] - 2s 40us/step - loss: 0.0197 - acc: 0.9944 - val_loss: 0.1073 - val_acc: 0.9736\n",
      "Test loss: 0.10726654627741664\n",
      "Test accuracy: 0.9736\n"
     ]
    }
   ],
   "source": [
    "model = Sequential()\n",
    "model.add(Dense(units=64, activation='relu', input_shape=(784,)))\n",
    "model.add(Dense(units=32, activation='relu'))\n",
    "model.add(Dense(units=16, activation='relu'))\n",
    "model.add(Dense(units=num_classes, activation='sigmoid'))\n",
    "model.compile(optimizer=\"adam\", loss='categorical_crossentropy',  metrics=['accuracy'])\n",
    "\n",
    "model.summary()\n",
    "\n",
    "history = model.fit(x=x_train, y=y_train_oh, batch_size=256, epochs=30, verbose=1, validation_data=(x_test, y_test_oh))\n",
    "\n",
    "score = model.evaluate(x_test, y_test_oh, verbose=0)\n",
    "\n",
    "print('Test loss:', score[0])\n",
    "print('Test accuracy:', score[1])"
   ]
  },
  {
   "cell_type": "markdown",
   "metadata": {},
   "source": [
    "# Definir otimizador, função custo e modo do treinamento\n",
    "\n",
    "Uma Rede Neural é um problema de otimização, sabendo disso, explique:\n",
    "* Qual otimizador será utilizado? Escolha dois otimizadores, explique a diferença entre eles justificando a escolha e comente os resultados obtidos.\n",
    "* Será necessário utilizar uma função custo? Explique o que é uma função custo e qual será utilizada justificando a escolha.\n",
    "* Qual modo de treinamento foi utilizado? Justifique sua resposta\n",
    "* Quantas épocas serão necessárias? Caso os métodos por batch ou mini-batch sejam escolhidos, indique também o tamanho\n",
    "\n"
   ]
  },
  {
   "cell_type": "markdown",
   "metadata": {},
   "source": [
    "# Treinamento e avaliação dos resultados\n",
    "\n",
    "Treine as três redes e mostre os resultados de cada uma a partir das questões anteriores.\n"
   ]
  },
  {
   "cell_type": "code",
   "execution_count": null,
   "metadata": {},
   "outputs": [],
   "source": []
  }
 ],
 "metadata": {
  "kernelspec": {
   "display_name": "Python 3",
   "language": "python",
   "name": "python3"
  },
  "language_info": {
   "codemirror_mode": {
    "name": "ipython",
    "version": 3
   },
   "file_extension": ".py",
   "mimetype": "text/x-python",
   "name": "python",
   "nbconvert_exporter": "python",
   "pygments_lexer": "ipython3",
   "version": "3.6.4"
  }
 },
 "nbformat": 4,
 "nbformat_minor": 2
}
