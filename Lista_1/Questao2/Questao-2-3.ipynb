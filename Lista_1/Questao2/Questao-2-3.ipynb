{
 "cells": [
  {
   "cell_type": "markdown",
   "metadata": {},
   "source": [
    "## Questão 2: Perceptron Backpropagation \n",
    "\n",
    "## Problema\n",
    "\n",
    "\n",
    "## Ideia\n",
    "\n",
    "\n",
    "## Características do dados\n",
    "\n",
    "//TODO\n",
    "\n",
    "## Geração atomática de dados\n",
    "\n",
    "//TODO"
   ]
  },
  {
   "cell_type": "code",
   "execution_count": 2,
   "metadata": {},
   "outputs": [],
   "source": [
    "import statistics as st\n",
    "import numpy as np\n",
    "import matplotlib.pyplot as plt\n",
    "from sklearn.metrics import accuracy_score"
   ]
  },
  {
   "cell_type": "markdown",
   "metadata": {},
   "source": [
    "## Funções de Ativação\n",
    "\n",
    "Foram implementadas funções básicas de ativação para serem opções no uso na rede."
   ]
  },
  {
   "cell_type": "code",
   "execution_count": 3,
   "metadata": {},
   "outputs": [],
   "source": [
    "def linear(x, derivative=False):\n",
    "    return np.ones_like(x) if derivative else x\n",
    "\n",
    "def sigmoid(x, derivative=False):\n",
    "    if derivative:\n",
    "        y = sigmoid(x)\n",
    "        return y*(1 - y)\n",
    "    return 1.0/(1.0 + np.exp(-x))\n",
    "\n",
    "def tanh(x, derivative=False):\n",
    "    if derivative:\n",
    "        y = tanh(x)\n",
    "        return 1 - y**2\n",
    "    return (np.exp(x) - np.exp(-x))/(np.exp(x) + np.exp(-x))\n",
    "\n",
    "def relu(x, derivative=False):\n",
    "    if derivative:\n",
    "        return np.where(x <= 0, 0, 1)\n",
    "    return np.maximum(0, x)\n",
    "\n",
    "def leaky_relu(x, derivative=False):\n",
    "    if derivative:\n",
    "        return np.where(x <= 0, 0.1, 1)\n",
    "    return np.where(x < 0, 0.1*x, x)\n",
    "\n",
    "def gaussian(x, derivative=False):\n",
    "    if derivative:\n",
    "        return -2*x*np.exp(-x**2)\n",
    "    return np.exp(-x**2)\n",
    "\n",
    "def degrau(x, derivative=False):\n",
    "    if derivative:\n",
    "        np.where(x>0.5,1,1)\n",
    "    return np.where(x>0.5,1,0)\n",
    "\n",
    "def step(x,derivative=False):\n",
    "    if derivative:\n",
    "        return np.where(x>0,1,1)\n",
    "    return np.where(x>0,1,0)"
   ]
  },
  {
   "cell_type": "markdown",
   "metadata": {},
   "source": [
    "## Função de Custo"
   ]
  },
  {
   "cell_type": "code",
   "execution_count": 4,
   "metadata": {},
   "outputs": [],
   "source": [
    "def mse(y, y_pred, derivative=False):\n",
    "    if derivative:\n",
    "        return -(y - y_pred)\n",
    "    return np.mean((y - y_pred)**2)"
   ]
  },
  {
   "cell_type": "markdown",
   "metadata": {},
   "source": [
    "## Classe Layer\n",
    "\n",
    "A classe Layer representa uma layer da rede guardando a entrada da camada, pesos, biases, função de ativação e saída da camada.\n",
    "\n",
    "### Parâmetros\n",
    "\n",
    "- __input_dim__: dimensão dos dados de entrada da camada\n",
    "- ___units___: quantidade de neurônios da camada\n",
    "- __activation__: função de ativação que será utilizada nos neurônios da rede\n",
    "\n",
    "### Atributos\n",
    "\n",
    "- __input__: dados de entrada da camada\n",
    "- __weights__: matriz todos os pesos de todos os neutônios da camada\n",
    "- __biases__: vetor com os valores dos bias de todos os neurônios da camada\n",
    "- __activation__: função de ativação que será utilizada nos neurônios da rede\n",
    "- __activ_out__: guarda os valores resultantes da função de ativação\n",
    "\n"
   ]
  },
  {
   "cell_type": "code",
   "execution_count": 5,
   "metadata": {},
   "outputs": [],
   "source": [
    "class Layer:\n",
    "    def __init__(self, input_dim, output_dim, activation=degrau, use_bias=True):\n",
    "        self.input = None\n",
    "        self.weights = np.random.randn(output_dim, input_dim)\n",
    "        self.biases = np.random.randn(1, output_dim)\n",
    "        self.activation = activation\n",
    "        self._activ_inp, self._activ_out = None, None\n",
    "        self.input_dim = input_dim\n",
    "        self.use_bias = use_bias\n",
    "        self.dweights, self.dbias = None, None"
   ]
  },
  {
   "cell_type": "markdown",
   "metadata": {},
   "source": [
    "## Classe NeuralNetwork\n",
    "\n",
    "A classe representa a Rede Neural, na caso o Perceptron.\n",
    "\n",
    "### Atributos\n",
    "\n",
    "- __layers__: conjunto de layers da rede\n"
   ]
  },
  {
   "cell_type": "code",
   "execution_count": 6,
   "metadata": {},
   "outputs": [],
   "source": [
    "class NeuralNetwork():\n",
    "    def __init__(self, cost_func=mse, learning_rate=1e-3):\n",
    "        self.layers = []\n",
    "        self.cost_func = cost_func\n",
    "        self.learning_rate = learning_rate\n",
    "        \n",
    "    def fit(self, x, y, x_valid=None, y_valid=None, batch_size=1, epochs=100, verbose=10, backpropagation=True, accuracy=True):\n",
    "        '''\n",
    "            Função de treinamento\n",
    "            Parâmetros:\n",
    "                x - entradas\n",
    "                y - saídas esperadas\n",
    "                learning_rate - taxa de aprendizagem\n",
    "                epochs - quantidade de épocas de treinamento\n",
    "                verbose - passos para verificação da época\n",
    "        '''\n",
    "        errors_train = []\n",
    "        errors_valid = []\n",
    "        batch_count = 0\n",
    "        \n",
    "        for epoch in range(epochs+1):\n",
    "            error_epoch = []\n",
    "            for x_i, y_i in zip(x, y):\n",
    "                \n",
    "                x_i =  x_i.reshape(1, x.shape[1])\n",
    "                y_pred = self.__feedforward(x_i)\n",
    "                \n",
    "                batch_count += 1\n",
    "                \n",
    "                erro = y_i - y_pred\n",
    "                error_epoch.append(st.median(erro[0]))\n",
    "                \n",
    "                if not batch_count%batch_size:\n",
    "                    if backpropagation:\n",
    "                        self.__backpropagation(y_i, y_pred)\n",
    "                    else:\n",
    "                        for layer in self.layers:\n",
    "                            layer.weights += self.learning_rate * np.dot(erro.T, x_i)\n",
    "                            layer.biases += self.learning_rate * erro[0]\n",
    "            \n",
    "            # calculo do erro de predição\n",
    "            if x_valid is not None and y_valid is not None:\n",
    "                if accuracy:\n",
    "                    y_pred = self.prediction(x_valid)\n",
    "                    acc = accuracy_score(y_valid, y_pred)\n",
    "                    errors_valid.append(1 - acc)\n",
    "            errors_train.append(st.median(error_epoch))\n",
    "            \n",
    "            if epoch % verbose == 0:\n",
    "                cost = self.cost_func(y_i, y_pred)\n",
    "                print(\"epoch: {0:=4}/{1}\\nerror: {2}\".format(epoch, epochs, st.median(error_epoch)))\n",
    "            \n",
    "        return errors_train, errors_valid\n",
    "    \n",
    "    def add_layer(self, layer):\n",
    "        '''\n",
    "            Método para adição de layers ao modelo\n",
    "            Parâmetros:\n",
    "                layer - Layer a se adicionada ao modelo\n",
    "        '''\n",
    "        self.layers.append(layer)\n",
    "    \n",
    "    def __feedforward(self, x):\n",
    "        '''\n",
    "            Método de Feedforward - Efetua a multiplicação das entradas pelos pesos, soma ao bias, aplica função de ativação\n",
    "            Parâmetros:\n",
    "                x - dados de entrada\n",
    "        '''\n",
    "        self.layers[0].input = x\n",
    "        for current_layer, next_layer in zip(self.layers, self.layers[1:]+[Layer(0,0)]):\n",
    "            y = np.dot(current_layer.input, current_layer.weights.T) + current_layer.biases\n",
    "            current_layer._activ_inp = y\n",
    "            current_layer._activ_out = next_layer.input = current_layer.activation(y)\n",
    "        return self.layers[-1]._activ_out\n",
    "    \n",
    "    def prediction(self, x):\n",
    "        '''\n",
    "            Método de Predição - Gera um conjunto de valores resultante do processo de FeedForward nos para os dados de entrada\n",
    "            Parâmetros:\n",
    "                x - dados de entrada\n",
    "        '''\n",
    "        y_pred = []\n",
    "        \n",
    "        for data in x:\n",
    "            pred = self.__feedforward(data)\n",
    "\n",
    "            for p in pred:\n",
    "                pred = p\n",
    "                break\n",
    "    \n",
    "            y_pred.append(pred)\n",
    "            \n",
    "        return np.array(y_pred)\n",
    "    \n",
    "    def evaluate(self,y_pred, y, dtype=int):\n",
    "        '''\n",
    "            Método Evaluate - Verifica a accuracy da rede\n",
    "            Parâmetros:\n",
    "                y_pred - resultado do processo de FeedForward sobre os dados de entrada\n",
    "                dtype - tipo dos dados\n",
    "        '''\n",
    "        score = 0\n",
    "\n",
    "        for y_i, y_pred_i in zip(y,y_pred):\n",
    "            if np.equal(np.argmax(y_i),np.argmax(y_pred_i[0])):\n",
    "                score+=1\n",
    "                \n",
    "        return score/y.shape[0]\n",
    "\n",
    "    def __backpropagation(self, y,y_pred):\n",
    "            last_delta = self.cost_func(y, y_pred, derivative=True)\n",
    "            for layer in reversed(self.layers):\n",
    "                dactivation = layer.activation(layer._activ_inp, derivative=True)*last_delta\n",
    "                last_delta = np.dot(dactivation, layer.weights)\n",
    "                layer.dweights = np.dot(dactivation.T, layer.input)\n",
    "                layer.dbiases = 1.0*dactivation.sum(axis=0, keepdims=True)\n",
    "\n",
    "            for layer in reversed(self.layers):\n",
    "                layer.weights = layer.weights - self.learning_rate*layer.dweights\n",
    "                layer.biases = layer.biases - self.learning_rate*layer.dbiases"
   ]
  },
  {
   "cell_type": "markdown",
   "metadata": {},
   "source": [
    "## Execução\n",
    "\n",
    "__1__ - A rede é inicializada\n",
    "\n",
    "__2__ - Os dados de entrada e saida são obtidos\n",
    "\n",
    "__3__ - Treinamento é feito com 80% dos dados e o Teste com os 20% restantes\n",
    "\n",
    "__4__ - Accuracy da rede é verificada\n",
    "\n",
    "## Arquitetura Usada\n",
    "\n",
    "//TODO\n",
    "\n",
    "## Parâmetros utilizados\n",
    "\n",
    "//TODO"
   ]
  },
  {
   "cell_type": "code",
   "execution_count": 54,
   "metadata": {},
   "outputs": [],
   "source": [
    "# Leitura dos dados de treinamento e validação\n",
    "\n",
    "x = []\n",
    "y = []\n",
    "\n",
    "# leitura dos dados\n",
    "for line in open('./data_x.txt', 'r').readlines():\n",
    "    x.append([float(num) for num in line.split(',')])\n",
    "\n",
    "for line in open('./data_y.txt', 'r').readlines():\n",
    "    y.append([float(num) for num in line.split(',')])\n",
    "\n",
    "# dados de treino\n",
    "x = np.array(x[:int(len(x) * 0.8)])\n",
    "y = np.array(y[:int(len(y) * 0.8)])\n",
    "\n",
    "# dados de validação\n",
    "x_valid = np.array(x[int(len(x) * 0.8):])\n",
    "y_valid = np.array(y[int(len(y) * 0.8):])"
   ]
  },
  {
   "cell_type": "markdown",
   "metadata": {},
   "source": [
    "## 2 a) Treinamento Estocástico\n",
    "\n",
    "### Arquitetura\n",
    "\n",
    "- __Parâmentros__: \n",
    " - Learning Rate: 0.001\n",
    " - Layers: 2\n",
    "\n",
    "- __Layer1__:\n",
    " - Dimensão de Entrada: 3\n",
    " - Dimensão de Saída: 8\n",
    " - Função de Ativação: Step\n",
    "\n",
    "- __Layer2__:\n",
    " - Dimensão de Entrada: 8\n",
    " - Dimensão de Saída: 8\n",
    " - Função de Ativação: Step\n",
    "\n",
    "- __Treinamento__:\n",
    " - Épocas: 100\n"
   ]
  },
  {
   "cell_type": "code",
   "execution_count": 230,
   "metadata": {},
   "outputs": [
    {
     "name": "stdout",
     "output_type": "stream",
     "text": [
      "epoch:    0/100\n",
      "error: 0.0\n",
      "epoch:   50/100\n",
      "error: 0.0\n",
      "epoch:  100/100\n",
      "error: 0.0\n"
     ]
    },
    {
     "data": {
      "image/png": "[encoded data removed]",
      "text/plain": [
       "<matplotlib.figure.Figure at 0x7f1279934128>"
      ]
     },
     "metadata": {},
     "output_type": "display_data"
    },
    {
     "data": {
      "image/png": "[encoded data removed]",
      "text/plain": [
       "<matplotlib.figure.Figure at 0x7f1279857898>"
      ]
     },
     "metadata": {},
     "output_type": "display_data"
    },
    {
     "name": "stdout",
     "output_type": "stream",
     "text": [
      "1.0\n"
     ]
    }
   ],
   "source": [
    "nn = NeuralNetwork(learning_rate=0.001)\n",
    "nn.add_layer(Layer(input_dim=x.shape[1], output_dim=y.shape[1], activation=step))\n",
    "nn.add_layer(Layer(input_dim=8, output_dim=8, activation=step))\n",
    "\n",
    "# treinamento\n",
    "errors_train, errors_valid = nn.fit(x, y, x_valid, y_valid, epochs=100, verbose=50)\n",
    "\n",
    "plt.title(\"Erros de treino ao longo das épocas\")\n",
    "plt.xlabel(\"epochs\")\n",
    "plt.ylabel(\"errors\")\n",
    "plt.plot(errors_train)\n",
    "plt.show()\n",
    "\n",
    "plt.title(\"Erros de validação ao longo das épocas\")\n",
    "plt.xlabel(\"epochs\")\n",
    "plt.ylabel(\"errors\")\n",
    "plt.plot(errors_valid)\n",
    "plt.show()\n",
    "\n",
    "# calculo do erro de predição\n",
    "y_pred = nn.prediction(x_valid)\n",
    "acc = accuracy_score(y_valid, y_pred.round())\n",
    "\n",
    "print(acc)"
   ]
  },
  {
   "cell_type": "markdown",
   "metadata": {},
   "source": [
    "## 2 b) Treinamento com Batch\n",
    "\n",
    "### Arquitetura\n",
    "\n",
    "- __Parâmentros__: \n",
    " - Learning Rate: 0.001\n",
    " - Layers: 2\n",
    "\n",
    "- __Layer1__:\n",
    " - Dimensão de Entrada: 3\n",
    " - Dimensão de Saída: 8\n",
    " - Função de Ativação: Step\n",
    "\n",
    "- __Layer2__:\n",
    " - Dimensão de Entrada: 8\n",
    " - Dimensão de Saída: 8\n",
    " - Função de Ativação: Step\n",
    "\n",
    "- __Treinamento__:\n",
    " - Batch: 5\n",
    " - Épocas: 200"
   ]
  },
  {
   "cell_type": "code",
   "execution_count": 55,
   "metadata": {},
   "outputs": [
    {
     "name": "stdout",
     "output_type": "stream",
     "text": [
      "epoch:    0/200\n",
      "error: 0.0\n",
      "epoch:   50/200\n",
      "error: 0.0\n",
      "epoch:  100/200\n",
      "error: 0.0\n",
      "epoch:  150/200\n",
      "error: 0.0\n",
      "epoch:  200/200\n",
      "error: 0.0\n"
     ]
    },
    {
     "data": {
      "image/png": "[encoded data removed]",
      "text/plain": [
       "<matplotlib.figure.Figure at 0x7fc7c52f0400>"
      ]
     },
     "metadata": {},
     "output_type": "display_data"
    },
    {
     "data": {
      "image/png": "[encoded data removed]",
      "text/plain": [
       "<matplotlib.figure.Figure at 0x7fc7f81e5cc0>"
      ]
     },
     "metadata": {},
     "output_type": "display_data"
    },
    {
     "name": "stdout",
     "output_type": "stream",
     "text": [
      "1.0\n"
     ]
    }
   ],
   "source": [
    "nn = NeuralNetwork(learning_rate=0.001)\n",
    "nn.add_layer(Layer(input_dim=x.shape[1], output_dim=y.shape[1], activation=step))\n",
    "nn.add_layer(Layer(input_dim=8, output_dim=8, activation=step))\n",
    "\n",
    "# treinamento\n",
    "errors_train, errors_valid = nn.fit(x, y, x_valid, y_valid, batch_size=5, epochs=200, verbose=50)\n",
    "\n",
    "plt.title(\"Erros de treino ao longo das épocas\")\n",
    "plt.xlabel(\"epochs\")\n",
    "plt.ylabel(\"errors\")\n",
    "plt.plot(errors_train)\n",
    "plt.show()\n",
    "\n",
    "plt.title(\"Erros de validação ao longo das épocas\")\n",
    "plt.xlabel(\"epochs\")\n",
    "plt.ylabel(\"errors\")\n",
    "plt.plot(errors_valid)\n",
    "plt.show()\n",
    "\n",
    "# calculo do erro de predição\n",
    "y_pred = nn.prediction(x_valid)\n",
    "acc = accuracy_score(y_valid, y_pred.round())\n",
    "\n",
    "print(acc)"
   ]
  },
  {
   "cell_type": "markdown",
   "metadata": {},
   "source": [
    "## 2 c)\n",
    "\n",
    "// TODO"
   ]
  },
  {
   "cell_type": "markdown",
   "metadata": {},
   "source": [
    "# Questão 3\n",
    "\n",
    "## 3 a)"
   ]
  },
  {
   "cell_type": "code",
   "execution_count": 176,
   "metadata": {},
   "outputs": [],
   "source": [
    "# Leitura dos dados de treinamento e validação\n",
    "\n",
    "x = []\n",
    "y = []\n",
    "\n",
    "# leitura dos dados\n",
    "for line in open('data_x-3a.txt', 'r').readlines():\n",
    "    x.append([float(num) for num in line.split(',')])\n",
    "\n",
    "for line in open('data_y-3a.txt', 'r').readlines():\n",
    "    y.append([float(num) for num in line.split(',')])\n",
    "\n",
    "# dados de treino\n",
    "x = np.array(x[:int(len(x) * 0.8)])\n",
    "y = np.array(y[:int(len(y) * 0.8)])\n",
    "\n",
    "# dados de validação\n",
    "x_valid = np.array(x[int(len(x) * 0.8):])\n",
    "y_valid = np.array(y[int(len(y) * 0.8):])"
   ]
  },
  {
   "cell_type": "markdown",
   "metadata": {},
   "source": [
    "### Estocástico"
   ]
  },
  {
   "cell_type": "code",
   "execution_count": 177,
   "metadata": {},
   "outputs": [
    {
     "name": "stdout",
     "output_type": "stream",
     "text": [
      "epoch:    0/300\n",
      "error: 0.0\n",
      "epoch:   50/300\n",
      "error: 0.0\n",
      "epoch:  100/300\n",
      "error: 0.0\n",
      "epoch:  150/300\n",
      "error: 0.0\n",
      "epoch:  200/300\n",
      "error: 0.0\n",
      "epoch:  250/300\n",
      "error: 0.0\n",
      "epoch:  300/300\n",
      "error: 0.0\n"
     ]
    },
    {
     "data": {
      "image/png": "[encoded data removed]",
      "text/plain": [
       "<matplotlib.figure.Figure at 0x7fc7c50eb080>"
      ]
     },
     "metadata": {},
     "output_type": "display_data"
    },
    {
     "data": {
      "image/png": "[encoded data removed]",
      "text/plain": [
       "<matplotlib.figure.Figure at 0x7fc7c51ce908>"
      ]
     },
     "metadata": {},
     "output_type": "display_data"
    },
    {
     "name": "stdout",
     "output_type": "stream",
     "text": [
      "1.0\n"
     ]
    }
   ],
   "source": [
    "nn = NeuralNetwork(learning_rate=0.01)\n",
    "nn.add_layer(Layer(input_dim=x.shape[1], output_dim=2, activation=sigmoid))\n",
    "nn.add_layer(Layer(input_dim=2, output_dim=y.shape[1], activation=step))\n",
    "\n",
    "# treinamento\n",
    "errors_train, errors_valid = nn.fit(x, y, x_valid=x_valid, y_valid=y_valid, epochs=300, verbose=50)\n",
    "\n",
    "plt.title(\"Erros de treino ao longo das épocas\")\n",
    "plt.xlabel(\"epochs\")\n",
    "plt.ylabel(\"errors\")\n",
    "plt.plot(errors_train)\n",
    "plt.show()\n",
    "\n",
    "plt.title(\"Erros de validação ao longo das épocas\")\n",
    "plt.xlabel(\"epochs\")\n",
    "plt.ylabel(\"errors\")\n",
    "plt.plot(errors_valid)\n",
    "plt.show()\n",
    "\n",
    "# calculo do erro de predição\n",
    "y_pred = nn.prediction(x_valid)\n",
    "acc = accuracy_score(y_valid, y_pred)\n",
    "\n",
    "print(acc)"
   ]
  },
  {
   "cell_type": "markdown",
   "metadata": {},
   "source": [
    "### Batch"
   ]
  },
  {
   "cell_type": "code",
   "execution_count": 203,
   "metadata": {},
   "outputs": [
    {
     "name": "stdout",
     "output_type": "stream",
     "text": [
      "epoch:    0/800\n",
      "error: 1.0\n",
      "epoch:  200/800\n",
      "error: 0.0\n",
      "epoch:  400/800\n",
      "error: 0.0\n",
      "epoch:  600/800\n",
      "error: 0.0\n",
      "epoch:  800/800\n",
      "error: 0.0\n"
     ]
    },
    {
     "data": {
      "image/png": "[encoded data removed]",
      "text/plain": [
       "<matplotlib.figure.Figure at 0x7fc7c50d9f28>"
      ]
     },
     "metadata": {},
     "output_type": "display_data"
    },
    {
     "data": {
      "image/png": "[encoded data removed]",
      "text/plain": [
       "<matplotlib.figure.Figure at 0x7fc7c52c9e80>"
      ]
     },
     "metadata": {},
     "output_type": "display_data"
    },
    {
     "name": "stdout",
     "output_type": "stream",
     "text": [
      "1.0\n"
     ]
    }
   ],
   "source": [
    "nn = NeuralNetwork(learning_rate=0.05)\n",
    "nn.add_layer(Layer(input_dim=x.shape[1], output_dim=2, activation=sigmoid))\n",
    "nn.add_layer(Layer(input_dim=2, output_dim=y.shape[1], activation=step))\n",
    "\n",
    "# treinamento\n",
    "errors_train, errors_valid = nn.fit(x, y, x_valid=x_valid, y_valid=y_valid, batch_size=5 ,epochs=800, verbose=200)\n",
    "\n",
    "plt.title(\"Erros de treino ao longo das épocas\")\n",
    "plt.xlabel(\"epochs\")\n",
    "plt.ylabel(\"errors\")\n",
    "plt.plot(errors_train)\n",
    "plt.show()\n",
    "\n",
    "plt.title(\"Erros de validação ao longo das épocas\")\n",
    "plt.xlabel(\"epochs\")\n",
    "plt.ylabel(\"errors\")\n",
    "plt.plot(errors_valid)\n",
    "plt.show()\n",
    "\n",
    "# calculo do erro de predição\n",
    "y_pred = nn.prediction(x_valid)\n",
    "acc = accuracy_score(y_valid, y_pred)\n",
    "\n",
    "print(acc)"
   ]
  },
  {
   "cell_type": "markdown",
   "metadata": {},
   "source": [
    "### Momento\n",
    "\n",
    "// TODO"
   ]
  },
  {
   "cell_type": "code",
   "execution_count": null,
   "metadata": {},
   "outputs": [],
   "source": []
  },
  {
   "cell_type": "markdown",
   "metadata": {},
   "source": [
    "## 3 b)\n",
    "\n",
    "// TODO"
   ]
  },
  {
   "cell_type": "code",
   "execution_count": 8,
   "metadata": {},
   "outputs": [
    {
     "data": {
      "image/png": "[encoded data removed]",
      "text/plain": [
       "<matplotlib.figure.Figure at 0x7ff7d2cc8a20>"
      ]
     },
     "metadata": {},
     "output_type": "display_data"
    }
   ],
   "source": [
    "# Leitura dos dados de treinamento e validação\n",
    "\n",
    "x = []\n",
    "y = []\n",
    "\n",
    "# leitura dos dados\n",
    "for line in open('data_x-3b.txt', 'r').readlines():\n",
    "    x.append([float(num) for num in line.split(',')])\n",
    "\n",
    "for line in open('data_y-3b.txt', 'r').readlines():\n",
    "    y.append([float(num) for num in line.split(',')])\n",
    "\n",
    "# dados de treino\n",
    "x = np.array(x[:int(len(x) * 0.8)])\n",
    "y = np.array(y[:int(len(y) * 0.8)])\n",
    "\n",
    "# dados de validação\n",
    "x_valid = np.array(x[int(len(x) * 0.8):])\n",
    "y_valid = np.array(y[int(len(y) * 0.8):])\n",
    "\n",
    "plt.plot(x, y, 'bo')\n",
    "plt.show()"
   ]
  },
  {
   "cell_type": "markdown",
   "metadata": {},
   "source": [
    "### Estocástico"
   ]
  },
  {
   "cell_type": "code",
   "execution_count": 9,
   "metadata": {},
   "outputs": [
    {
     "name": "stdout",
     "output_type": "stream",
     "text": [
      "epoch:    0/500\n",
      "error: -0.05322966266699805\n",
      "epoch:   50/500\n",
      "error: 0.0016061356287941503\n",
      "epoch:  100/500\n",
      "error: 0.0008504163387159508\n",
      "epoch:  150/500\n",
      "error: 0.00103116993354576\n",
      "epoch:  200/500\n",
      "error: 0.001189326314596638\n",
      "epoch:  250/500\n",
      "error: 0.0012503590440452461\n",
      "epoch:  300/500\n",
      "error: 0.0011977232230657511\n",
      "epoch:  350/500\n",
      "error: 0.0011815723995534863\n",
      "epoch:  400/500\n",
      "error: 0.0010684354026207002\n",
      "epoch:  450/500\n",
      "error: 0.0009853110009501237\n",
      "epoch:  500/500\n",
      "error: 0.0011588920164957578\n"
     ]
    },
    {
     "data": {
      "image/png": "[encoded data removed]",
      "text/plain": [
       "<matplotlib.figure.Figure at 0x7ff7d2c74518>"
      ]
     },
     "metadata": {},
     "output_type": "display_data"
    },
    {
     "data": {
      "image/png": "[encoded data removed]",
      "text/plain": [
       "<matplotlib.figure.Figure at 0x7ff7d0b16860>"
      ]
     },
     "metadata": {},
     "output_type": "display_data"
    },
    {
     "name": "stdout",
     "output_type": "stream",
     "text": [
      "0.0\n"
     ]
    },
    {
     "data": {
      "image/png": "[encoded data removed]",
      "text/plain": [
       "<matplotlib.figure.Figure at 0x7ff7d2b55b00>"
      ]
     },
     "metadata": {},
     "output_type": "display_data"
    }
   ],
   "source": [
    "nn = NeuralNetwork(learning_rate=0.001)\n",
    "nn.add_layer(Layer(input_dim=x.shape[1], output_dim=4, activation=tanh))\n",
    "nn.add_layer(Layer(input_dim=4, output_dim=4, activation=relu))\n",
    "nn.add_layer(Layer(input_dim=4, output_dim=y.shape[1], activation=tanh))\n",
    "\n",
    "# treinamento\n",
    "errors_train, errors_valid = nn.fit(x, y, x_valid=x_valid, y_valid=y_valid,batch_size=1, epochs=500, verbose=50, backpropagation=True, accuracy=False)\n",
    "\n",
    "plt.title(\"Erros de treino ao longo das épocas\")\n",
    "plt.xlabel(\"epochs\")\n",
    "plt.ylabel(\"errors\")\n",
    "plt.plot(errors_train)\n",
    "plt.show()\n",
    "\n",
    "plt.title(\"Erros de validação ao longo das épocas\")\n",
    "plt.xlabel(\"epochs\")\n",
    "plt.ylabel(\"errors\")\n",
    "plt.plot(errors_valid)\n",
    "plt.show()\n",
    "\n",
    "# calculo do erro de predição\n",
    "y_pred = nn.prediction(x_valid)\n",
    "\n",
    "check = 0\n",
    "for valid, pred in zip(y_valid, y_pred): \n",
    "    #print(valid, pred)\n",
    "    \n",
    "    if valid[0] == pred[0]:\n",
    "        check += 1\n",
    "        \n",
    "print(check / y_valid.shape[0])\n",
    "\n",
    "plt.plot(x, y, 'bo')\n",
    "plt.plot(x_valid, y_pred, 'go')\n",
    "plt.show()"
   ]
  },
  {
   "cell_type": "markdown",
   "metadata": {},
   "source": [
    "## Batch"
   ]
  },
  {
   "cell_type": "code",
   "execution_count": null,
   "metadata": {},
   "outputs": [],
   "source": []
  },
  {
   "cell_type": "markdown",
   "metadata": {},
   "source": [
    "## Momento"
   ]
  },
  {
   "cell_type": "code",
   "execution_count": null,
   "metadata": {},
   "outputs": [],
   "source": []
  }
 ],
 "metadata": {
  "kernelspec": {
   "display_name": "Python 3",
   "language": "python",
   "name": "python3"
  },
  "language_info": {
   "codemirror_mode": {
    "name": "ipython",
    "version": 3
   },
   "file_extension": ".py",
   "mimetype": "text/x-python",
   "name": "python",
   "nbconvert_exporter": "python",
   "pygments_lexer": "ipython3",
   "version": "3.5.2"
  }
 },
 "nbformat": 4,
 "nbformat_minor": 2
}
