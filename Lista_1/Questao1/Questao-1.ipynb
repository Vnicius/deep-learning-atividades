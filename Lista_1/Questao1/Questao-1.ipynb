{
 "cells": [
  {
   "cell_type": "markdown",
   "metadata": {},
   "source": [
    "# Questão 1: Perceptron de Camada Única \n",
    "\n",
    "## Problema\n",
    "\n",
    "A representação de uma determinada mensagem digital ternária, isto é formada por três bits, forma um cubo cujos vértices correspondem a mesma representação digital. Supondo que ao transmitirmos esta mensagem a mesma possa ser contaminada por ruído formado em torno de cada vértice uma nuvem esférica de valores aleatórios com raio máximo é 0.1.\n",
    "\n",
    "## Ideia\n",
    "\n",
    "Implementar o Perceptron de Rosenblatt (Perceptron de camada única) para atuar como classificador/decodificador.\n",
    "\n",
    "## Características do dados\n",
    "\n",
    "//TODO\n",
    "\n",
    "## Geração atomática de dados\n",
    "\n",
    "//TODO"
   ]
  },
  {
   "cell_type": "code",
   "execution_count": 1,
   "metadata": {},
   "outputs": [],
   "source": [
    "import statistics as st\n",
    "import numpy as np\n",
    "import matplotlib.pyplot as plt\n",
    "from scipy.interpolate import spline\n",
    "from sklearn.metrics import classification_report\n",
    "from sklearn.metrics import confusion_matrix\n",
    "from sklearn.metrics import accuracy_score"
   ]
  },
  {
   "cell_type": "markdown",
   "metadata": {},
   "source": [
    "## Funções de Ativação\n",
    "\n",
    "Foram implementadas funções básicas de ativação para serem opções no uso na rede."
   ]
  },
  {
   "cell_type": "code",
   "execution_count": 2,
   "metadata": {},
   "outputs": [],
   "source": [
    "def linear(x):\n",
    "    return np.ones_like(x) if derivative else x\n",
    "\n",
    "def sigmoid(x):\n",
    "    return 1.0/(1.0 + np.exp(-x))\n",
    "\n",
    "def tanh(x):\n",
    "    return (np.exp(x) - np.exp(-x))/(np.exp(x) + np.exp(-x))\n",
    "\n",
    "def relu(x):\n",
    "    return np.maximum(0, x)\n",
    "\n",
    "def step(x):\n",
    "    return np.where(x>0,1,-1)"
   ]
  },
  {
   "cell_type": "markdown",
   "metadata": {},
   "source": [
    "## Classe Layer\n",
    "\n",
    "A classe Layer representa uma layer da rede guardando a entrada da camada, pesos, biases, função de ativação e saída da camada.\n",
    "\n",
    "### Parâmetros\n",
    "\n",
    "- __input_dim__: dimensão dos dados de entrada da camada\n",
    "- ___units___: quantidade de neurônios da camada\n",
    "- __activation__: função de ativação que será utilizada nos neurônios da rede\n",
    "\n",
    "### Atributos\n",
    "\n",
    "- __input__: dados de entrada da camada\n",
    "- __weights__: matriz todos os pesos de todos os neutônios da camada\n",
    "- __biases__: vetor com os valores dos bias de todos os neurônios da camada\n",
    "- __activation__: função de ativação que será utilizada nos neurônios da rede\n",
    "- __activ_out__: guarda os valores resultantes da função de ativação\n",
    "\n"
   ]
  },
  {
   "cell_type": "code",
   "execution_count": 3,
   "metadata": {},
   "outputs": [],
   "source": [
    "class Layer():\n",
    "    def __init__(self, input_dim, units=1, activation=step):\n",
    "        self.input = None\n",
    "        self.weights = np.random.randn(units, input_dim)\n",
    "        self.biases = np.random.randn(1, units)\n",
    "        self.activation = activation\n",
    "        self._activ_out = None\n",
    "\n"
   ]
  },
  {
   "cell_type": "markdown",
   "metadata": {},
   "source": [
    "## Classe NeuralNetwork\n",
    "\n",
    "A classe representa a Rede Neural, na caso o Perceptron.\n",
    "\n",
    "### Atributos\n",
    "\n",
    "- __layers__: conjunto de layers da rede\n"
   ]
  },
  {
   "cell_type": "code",
   "execution_count": 58,
   "metadata": {},
   "outputs": [],
   "source": [
    "class NeuralNetwork():\n",
    "    def __init__(self):\n",
    "        self.layers = []\n",
    "        \n",
    "    def fit(self, x, y, x_valid, y_valid, learning_rate=1e-3, epochs=100, verbose=10, plot=False):\n",
    "        '''\n",
    "            Função de treinamento\n",
    "            Parâmetros:\n",
    "                x - entradas\n",
    "                y - saídas esperadas\n",
    "                learning_rate - taxa de aprendizagem\n",
    "                epochs - quantidade de épocas de treinamento\n",
    "                verbose - passos para verificação da época\n",
    "        '''\n",
    "        errors_train = []\n",
    "        errors_valid = []\n",
    "\n",
    "        for epoch in range(epochs+1):\n",
    "            error_epoch = []\n",
    "            for x_i, y_i in zip(x, y):\n",
    "                x_i =  x_i.reshape(1, x.shape[1])\n",
    "                y_pred = self.__feedforward(x_i)\n",
    "                \n",
    "                # erro de treinamento\n",
    "                erro = y_i - y_pred\n",
    "                error_epoch.append(st.median(erro[0]))\n",
    "                \n",
    "                for layer in self.layers:\n",
    "                    layer.weights += learning_rate * np.dot(erro.T, x_i)\n",
    "                    layer.biases += learning_rate * erro[0]\n",
    "            \n",
    "            # calculo do erro de predição\n",
    "            y_pred = self.prediction(x_valid)\n",
    "            acc = self.evaluate(y_pred, y_valid)\n",
    "            errors_valid.append(1 - acc)\n",
    "            errors_train.append(st.median(error_epoch))\n",
    "            \n",
    "            if epoch % verbose == 0:\n",
    "                print(\"epoch: {0:=4}/{1}\\n error: {2}\".format(epoch, epochs, st.median(erro[0])))\n",
    "            \n",
    "        return errors_train, errors_valid\n",
    "    \n",
    "    def add_layer(self, layer):\n",
    "        '''\n",
    "            Método para adição de layers ao modelo\n",
    "            Parâmetros:\n",
    "                layer - Layer a se adicionada ao modelo\n",
    "        '''\n",
    "        self.layers.append(layer)\n",
    "    \n",
    "    def __feedforward(self, x):\n",
    "        '''\n",
    "            Método de Feedforward - Efetua a multiplicação das entradas pelos pesos, soma ao bias, aplica função de ativação\n",
    "            Parâmetros:\n",
    "                x - dados de entrada\n",
    "        '''\n",
    "        self.layers[0].input = x\n",
    "        for current_layer, next_layer in zip(self.layers, self.layers[1:]+[Layer(0,0)]):\n",
    "            y = np.dot(current_layer.input, current_layer.weights.T) + current_layer.biases\n",
    "            current_layer._activ_out = next_layer.input = current_layer.activation(y)\n",
    "        return self.layers[-1]._activ_out\n",
    "    \n",
    "    def prediction(self, x):\n",
    "        '''\n",
    "            Método de Predição - Gera um conjunto de valores resultante do processo de FeedForward nos para os dados de entrada\n",
    "            Parâmetros:\n",
    "                x - dados de entrada\n",
    "        '''\n",
    "        y_pred = []\n",
    "        \n",
    "        for data in x:\n",
    "            y_pred.append(self.__feedforward(data))\n",
    "            \n",
    "        return np.array(y_pred)\n",
    "    \n",
    "    def evaluate(self,y_pred, y, dtype=int):\n",
    "        '''\n",
    "            Método Evaluate - Verifica a accuracy da rede\n",
    "            Parâmetros:\n",
    "                y_pred - resultado do processo de FeedForward sobre os dados de entrada\n",
    "                dtype - tipo dos dados\n",
    "        '''\n",
    "        score = 0\n",
    "        #total = 100.0/y.shape[0]\n",
    "        total = 1/y.shape[0]\n",
    "\n",
    "        # verifica se possuem o tipo de saída esperado\n",
    "        y_pred = y_pred.astype(dtype)\n",
    "        y = y.astype(dtype)\n",
    "\n",
    "        for y_i, y_pred_i in zip(y,y_pred):\n",
    "            if np.array_equal(y_i,y_pred_i[0]):\n",
    "                score+=1\n",
    "\n",
    "        return score*total"
   ]
  },
  {
   "cell_type": "markdown",
   "metadata": {},
   "source": [
    "## Execução\n",
    "\n",
    "__1__ - A rede é inicializada\n",
    "\n",
    "__2__ - Os dados de entrada e saida são obtidos\n",
    "\n",
    "__3__ - Treinamento é feito com 80% dos dados e o Teste com os 20% restantes\n",
    "\n",
    "__4__ - Accuracy da rede é verificada\n",
    "\n",
    "## Arquitetura Usada\n",
    "\n",
    "//TODO\n",
    "\n",
    "## Parâmetros utilizados\n",
    "\n",
    "//TODO"
   ]
  },
  {
   "cell_type": "code",
   "execution_count": 65,
   "metadata": {},
   "outputs": [
    {
     "name": "stdout",
     "output_type": "stream",
     "text": [
      "epoch:    0/40\n",
      " error: -2.0\n"
     ]
    },
    {
     "data": {
      "image/png": "[encoded data removed]",
      "text/plain": [
       "<matplotlib.figure.Figure at 0x7f738bb9cbe0>"
      ]
     },
     "metadata": {},
     "output_type": "display_data"
    },
    {
     "data": {
      "image/png": "[encoded data removed]",
      "text/plain": [
       "<matplotlib.figure.Figure at 0x7f738bba8ac8>"
      ]
     },
     "metadata": {},
     "output_type": "display_data"
    }
   ],
   "source": [
    "nn = NeuralNetwork()\n",
    "\n",
    "x = []\n",
    "y = []\n",
    "\n",
    "# leitura dos dados\n",
    "for line in open('./data_x.txt', 'r').readlines():\n",
    "    x.append([float(num) for num in line.split(',')])\n",
    "\n",
    "for line in open('./data_y.txt', 'r').readlines():\n",
    "    y.append([int(num) for num in line.split(',')])\n",
    "\n",
    "# dados de treino\n",
    "x = np.array(x[:int(len(x) * 0.8)])\n",
    "y = np.array(y[:int(len(y) * 0.8)])\n",
    "\n",
    "# dados de validação\n",
    "x_valid = np.array(x[int(len(x) * 0.8):])\n",
    "y_valid = np.array(y[int(len(y) * 0.8):])\n",
    "\n",
    "nn.add_layer(Layer(input_dim=x.shape[1], units=y.shape[1], activation=step))\n",
    "\n",
    "# treinamento\n",
    "errors_train, errors_valid = nn.fit(x, y, x_valid, y_valid, learning_rate=0.001 , epochs=40, verbose=100, plot=True)\n",
    "\n",
    "plt.title(\"Erros de treino ao longo das épocas\")\n",
    "plt.xlabel(\"epochs\")\n",
    "plt.ylabel(\"errors\")\n",
    "plt.plot(errors_train)\n",
    "plt.show()\n",
    "\n",
    "plt.title(\"Erros de validação ao longo das épocas\")\n",
    "plt.xlabel(\"epochs\")\n",
    "plt.ylabel(\"errors\")\n",
    "plt.plot(errors_valid)\n",
    "plt.show()\n",
    "\n",
    "# y_pred = nn.prediction(x_valid)\n",
    "\n",
    "# print(nn.evaluate(y_pred, y_valid) * 100, \"%\")\n"
   ]
  }
 ],
 "metadata": {
  "kernelspec": {
   "display_name": "Python 3",
   "language": "python",
   "name": "python3"
  },
  "language_info": {
   "codemirror_mode": {
    "name": "ipython",
    "version": 3
   },
   "file_extension": ".py",
   "mimetype": "text/x-python",
   "name": "python",
   "nbconvert_exporter": "python",
   "pygments_lexer": "ipython3",
   "version": "3.5.2"
  }
 },
 "nbformat": 4,
 "nbformat_minor": 2
}
